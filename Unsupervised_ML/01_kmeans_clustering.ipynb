{
  "nbformat": 4,
  "nbformat_minor": 0,
  "metadata": {
    "colab": {
      "provenance": []
    },
    "kernelspec": {
      "name": "python3",
      "display_name": "Python 3"
    },
    "language_info": {
      "name": "python"
    }
  },
  "cells": [
    {
      "cell_type": "code",
      "execution_count": 1,
      "metadata": {
        "id": "3p29CvDRtew4"
      },
      "outputs": [],
      "source": [
        "import numpy as np\n",
        "import pandas as pd"
      ]
    },
    {
      "cell_type": "code",
      "source": [
        "df = pd.read_csv('student_clustering.csv')\n",
        "print(\"The shape of data is\",df.shape)\n",
        "df.head()"
      ],
      "metadata": {
        "colab": {
          "base_uri": "https://localhost:8080/",
          "height": 224
        },
        "id": "R1E6WtKEtnDq",
        "outputId": "4d893117-2c41-4ed6-f34c-b0cf90034b43"
      },
      "execution_count": 2,
      "outputs": [
        {
          "output_type": "stream",
          "name": "stdout",
          "text": [
            "The shape of data is (200, 2)\n"
          ]
        },
        {
          "output_type": "execute_result",
          "data": {
            "text/plain": [
              "   cgpa   iq\n",
              "0  5.13   88\n",
              "1  5.90  113\n",
              "2  8.36   93\n",
              "3  8.27   97\n",
              "4  5.45  110"
            ],
            "text/html": [
              "\n",
              "  <div id=\"df-5f703a26-5a6a-4ad3-bea6-483d9dd8a560\" class=\"colab-df-container\">\n",
              "    <div>\n",
              "<style scoped>\n",
              "    .dataframe tbody tr th:only-of-type {\n",
              "        vertical-align: middle;\n",
              "    }\n",
              "\n",
              "    .dataframe tbody tr th {\n",
              "        vertical-align: top;\n",
              "    }\n",
              "\n",
              "    .dataframe thead th {\n",
              "        text-align: right;\n",
              "    }\n",
              "</style>\n",
              "<table border=\"1\" class=\"dataframe\">\n",
              "  <thead>\n",
              "    <tr style=\"text-align: right;\">\n",
              "      <th></th>\n",
              "      <th>cgpa</th>\n",
              "      <th>iq</th>\n",
              "    </tr>\n",
              "  </thead>\n",
              "  <tbody>\n",
              "    <tr>\n",
              "      <th>0</th>\n",
              "      <td>5.13</td>\n",
              "      <td>88</td>\n",
              "    </tr>\n",
              "    <tr>\n",
              "      <th>1</th>\n",
              "      <td>5.90</td>\n",
              "      <td>113</td>\n",
              "    </tr>\n",
              "    <tr>\n",
              "      <th>2</th>\n",
              "      <td>8.36</td>\n",
              "      <td>93</td>\n",
              "    </tr>\n",
              "    <tr>\n",
              "      <th>3</th>\n",
              "      <td>8.27</td>\n",
              "      <td>97</td>\n",
              "    </tr>\n",
              "    <tr>\n",
              "      <th>4</th>\n",
              "      <td>5.45</td>\n",
              "      <td>110</td>\n",
              "    </tr>\n",
              "  </tbody>\n",
              "</table>\n",
              "</div>\n",
              "    <div class=\"colab-df-buttons\">\n",
              "\n",
              "  <div class=\"colab-df-container\">\n",
              "    <button class=\"colab-df-convert\" onclick=\"convertToInteractive('df-5f703a26-5a6a-4ad3-bea6-483d9dd8a560')\"\n",
              "            title=\"Convert this dataframe to an interactive table.\"\n",
              "            style=\"display:none;\">\n",
              "\n",
              "  <svg xmlns=\"http://www.w3.org/2000/svg\" height=\"24px\" viewBox=\"0 -960 960 960\">\n",
              "    <path d=\"M120-120v-720h720v720H120Zm60-500h600v-160H180v160Zm220 220h160v-160H400v160Zm0 220h160v-160H400v160ZM180-400h160v-160H180v160Zm440 0h160v-160H620v160ZM180-180h160v-160H180v160Zm440 0h160v-160H620v160Z\"/>\n",
              "  </svg>\n",
              "    </button>\n",
              "\n",
              "  <style>\n",
              "    .colab-df-container {\n",
              "      display:flex;\n",
              "      gap: 12px;\n",
              "    }\n",
              "\n",
              "    .colab-df-convert {\n",
              "      background-color: #E8F0FE;\n",
              "      border: none;\n",
              "      border-radius: 50%;\n",
              "      cursor: pointer;\n",
              "      display: none;\n",
              "      fill: #1967D2;\n",
              "      height: 32px;\n",
              "      padding: 0 0 0 0;\n",
              "      width: 32px;\n",
              "    }\n",
              "\n",
              "    .colab-df-convert:hover {\n",
              "      background-color: #E2EBFA;\n",
              "      box-shadow: 0px 1px 2px rgba(60, 64, 67, 0.3), 0px 1px 3px 1px rgba(60, 64, 67, 0.15);\n",
              "      fill: #174EA6;\n",
              "    }\n",
              "\n",
              "    .colab-df-buttons div {\n",
              "      margin-bottom: 4px;\n",
              "    }\n",
              "\n",
              "    [theme=dark] .colab-df-convert {\n",
              "      background-color: #3B4455;\n",
              "      fill: #D2E3FC;\n",
              "    }\n",
              "\n",
              "    [theme=dark] .colab-df-convert:hover {\n",
              "      background-color: #434B5C;\n",
              "      box-shadow: 0px 1px 3px 1px rgba(0, 0, 0, 0.15);\n",
              "      filter: drop-shadow(0px 1px 2px rgba(0, 0, 0, 0.3));\n",
              "      fill: #FFFFFF;\n",
              "    }\n",
              "  </style>\n",
              "\n",
              "    <script>\n",
              "      const buttonEl =\n",
              "        document.querySelector('#df-5f703a26-5a6a-4ad3-bea6-483d9dd8a560 button.colab-df-convert');\n",
              "      buttonEl.style.display =\n",
              "        google.colab.kernel.accessAllowed ? 'block' : 'none';\n",
              "\n",
              "      async function convertToInteractive(key) {\n",
              "        const element = document.querySelector('#df-5f703a26-5a6a-4ad3-bea6-483d9dd8a560');\n",
              "        const dataTable =\n",
              "          await google.colab.kernel.invokeFunction('convertToInteractive',\n",
              "                                                    [key], {});\n",
              "        if (!dataTable) return;\n",
              "\n",
              "        const docLinkHtml = 'Like what you see? Visit the ' +\n",
              "          '<a target=\"_blank\" href=https://colab.research.google.com/notebooks/data_table.ipynb>data table notebook</a>'\n",
              "          + ' to learn more about interactive tables.';\n",
              "        element.innerHTML = '';\n",
              "        dataTable['output_type'] = 'display_data';\n",
              "        await google.colab.output.renderOutput(dataTable, element);\n",
              "        const docLink = document.createElement('div');\n",
              "        docLink.innerHTML = docLinkHtml;\n",
              "        element.appendChild(docLink);\n",
              "      }\n",
              "    </script>\n",
              "  </div>\n",
              "\n",
              "\n",
              "<div id=\"df-4e925715-0152-44cb-8f2a-fa514abb1ed7\">\n",
              "  <button class=\"colab-df-quickchart\" onclick=\"quickchart('df-4e925715-0152-44cb-8f2a-fa514abb1ed7')\"\n",
              "            title=\"Suggest charts\"\n",
              "            style=\"display:none;\">\n",
              "\n",
              "<svg xmlns=\"http://www.w3.org/2000/svg\" height=\"24px\"viewBox=\"0 0 24 24\"\n",
              "     width=\"24px\">\n",
              "    <g>\n",
              "        <path d=\"M19 3H5c-1.1 0-2 .9-2 2v14c0 1.1.9 2 2 2h14c1.1 0 2-.9 2-2V5c0-1.1-.9-2-2-2zM9 17H7v-7h2v7zm4 0h-2V7h2v10zm4 0h-2v-4h2v4z\"/>\n",
              "    </g>\n",
              "</svg>\n",
              "  </button>\n",
              "\n",
              "<style>\n",
              "  .colab-df-quickchart {\n",
              "      --bg-color: #E8F0FE;\n",
              "      --fill-color: #1967D2;\n",
              "      --hover-bg-color: #E2EBFA;\n",
              "      --hover-fill-color: #174EA6;\n",
              "      --disabled-fill-color: #AAA;\n",
              "      --disabled-bg-color: #DDD;\n",
              "  }\n",
              "\n",
              "  [theme=dark] .colab-df-quickchart {\n",
              "      --bg-color: #3B4455;\n",
              "      --fill-color: #D2E3FC;\n",
              "      --hover-bg-color: #434B5C;\n",
              "      --hover-fill-color: #FFFFFF;\n",
              "      --disabled-bg-color: #3B4455;\n",
              "      --disabled-fill-color: #666;\n",
              "  }\n",
              "\n",
              "  .colab-df-quickchart {\n",
              "    background-color: var(--bg-color);\n",
              "    border: none;\n",
              "    border-radius: 50%;\n",
              "    cursor: pointer;\n",
              "    display: none;\n",
              "    fill: var(--fill-color);\n",
              "    height: 32px;\n",
              "    padding: 0;\n",
              "    width: 32px;\n",
              "  }\n",
              "\n",
              "  .colab-df-quickchart:hover {\n",
              "    background-color: var(--hover-bg-color);\n",
              "    box-shadow: 0 1px 2px rgba(60, 64, 67, 0.3), 0 1px 3px 1px rgba(60, 64, 67, 0.15);\n",
              "    fill: var(--button-hover-fill-color);\n",
              "  }\n",
              "\n",
              "  .colab-df-quickchart-complete:disabled,\n",
              "  .colab-df-quickchart-complete:disabled:hover {\n",
              "    background-color: var(--disabled-bg-color);\n",
              "    fill: var(--disabled-fill-color);\n",
              "    box-shadow: none;\n",
              "  }\n",
              "\n",
              "  .colab-df-spinner {\n",
              "    border: 2px solid var(--fill-color);\n",
              "    border-color: transparent;\n",
              "    border-bottom-color: var(--fill-color);\n",
              "    animation:\n",
              "      spin 1s steps(1) infinite;\n",
              "  }\n",
              "\n",
              "  @keyframes spin {\n",
              "    0% {\n",
              "      border-color: transparent;\n",
              "      border-bottom-color: var(--fill-color);\n",
              "      border-left-color: var(--fill-color);\n",
              "    }\n",
              "    20% {\n",
              "      border-color: transparent;\n",
              "      border-left-color: var(--fill-color);\n",
              "      border-top-color: var(--fill-color);\n",
              "    }\n",
              "    30% {\n",
              "      border-color: transparent;\n",
              "      border-left-color: var(--fill-color);\n",
              "      border-top-color: var(--fill-color);\n",
              "      border-right-color: var(--fill-color);\n",
              "    }\n",
              "    40% {\n",
              "      border-color: transparent;\n",
              "      border-right-color: var(--fill-color);\n",
              "      border-top-color: var(--fill-color);\n",
              "    }\n",
              "    60% {\n",
              "      border-color: transparent;\n",
              "      border-right-color: var(--fill-color);\n",
              "    }\n",
              "    80% {\n",
              "      border-color: transparent;\n",
              "      border-right-color: var(--fill-color);\n",
              "      border-bottom-color: var(--fill-color);\n",
              "    }\n",
              "    90% {\n",
              "      border-color: transparent;\n",
              "      border-bottom-color: var(--fill-color);\n",
              "    }\n",
              "  }\n",
              "</style>\n",
              "\n",
              "  <script>\n",
              "    async function quickchart(key) {\n",
              "      const quickchartButtonEl =\n",
              "        document.querySelector('#' + key + ' button');\n",
              "      quickchartButtonEl.disabled = true;  // To prevent multiple clicks.\n",
              "      quickchartButtonEl.classList.add('colab-df-spinner');\n",
              "      try {\n",
              "        const charts = await google.colab.kernel.invokeFunction(\n",
              "            'suggestCharts', [key], {});\n",
              "      } catch (error) {\n",
              "        console.error('Error during call to suggestCharts:', error);\n",
              "      }\n",
              "      quickchartButtonEl.classList.remove('colab-df-spinner');\n",
              "      quickchartButtonEl.classList.add('colab-df-quickchart-complete');\n",
              "    }\n",
              "    (() => {\n",
              "      let quickchartButtonEl =\n",
              "        document.querySelector('#df-4e925715-0152-44cb-8f2a-fa514abb1ed7 button');\n",
              "      quickchartButtonEl.style.display =\n",
              "        google.colab.kernel.accessAllowed ? 'block' : 'none';\n",
              "    })();\n",
              "  </script>\n",
              "</div>\n",
              "\n",
              "    </div>\n",
              "  </div>\n"
            ],
            "application/vnd.google.colaboratory.intrinsic+json": {
              "type": "dataframe",
              "variable_name": "df",
              "summary": "{\n  \"name\": \"df\",\n  \"rows\": 200,\n  \"fields\": [\n    {\n      \"column\": \"cgpa\",\n      \"properties\": {\n        \"dtype\": \"number\",\n        \"std\": 1.6241012791153513,\n        \"min\": 4.6,\n        \"max\": 9.3,\n        \"num_unique_values\": 152,\n        \"samples\": [\n          6.06,\n          6.33,\n          4.85\n        ],\n        \"semantic_type\": \"\",\n        \"description\": \"\"\n      }\n    },\n    {\n      \"column\": \"iq\",\n      \"properties\": {\n        \"dtype\": \"number\",\n        \"std\": 12,\n        \"min\": 83,\n        \"max\": 121,\n        \"num_unique_values\": 34,\n        \"samples\": [\n          87,\n          112,\n          121\n        ],\n        \"semantic_type\": \"\",\n        \"description\": \"\"\n      }\n    }\n  ]\n}"
            }
          },
          "metadata": {},
          "execution_count": 2
        }
      ]
    },
    {
      "cell_type": "code",
      "source": [
        "import matplotlib.pyplot as plt\n",
        "plt.scatter(df['cgpa'],df['iq'])\n",
        "#before clustering data looking like this but real life data will not be like this"
      ],
      "metadata": {
        "colab": {
          "base_uri": "https://localhost:8080/",
          "height": 447
        },
        "id": "oHIeQo2gtnGh",
        "outputId": "5d051979-ef60-488b-f57a-a1231e14cb02"
      },
      "execution_count": 3,
      "outputs": [
        {
          "output_type": "execute_result",
          "data": {
            "text/plain": [
              "<matplotlib.collections.PathCollection at 0x7c1a0b0e2fe0>"
            ]
          },
          "metadata": {},
          "execution_count": 3
        },
        {
          "output_type": "display_data",
          "data": {
            "text/plain": [
              "<Figure size 640x480 with 1 Axes>"
            ],
            "image/png": "[encoded data removed]"
          },
          "metadata": {}
        }
      ]
    },
    {
      "cell_type": "code",
      "source": [
        "from sklearn.cluster import KMeans"
      ],
      "metadata": {
        "id": "lsmQSJ5dtnJd"
      },
      "execution_count": 4,
      "outputs": []
    },
    {
      "cell_type": "code",
      "source": [
        "#how many clusters to form? using elbow method to find\n",
        "wcss = []\n",
        "\n",
        "for i in range(1,11):\n",
        "    km = KMeans(n_clusters=i)\n",
        "    km.fit_predict(df)\n",
        "    wcss.append(km.inertia_)"
      ],
      "metadata": {
        "id": "ntAZOmIItnMT"
      },
      "execution_count": 5,
      "outputs": []
    },
    {
      "cell_type": "code",
      "source": [
        "wcss"
      ],
      "metadata": {
        "colab": {
          "base_uri": "https://localhost:8080/"
        },
        "id": "TQPGFjwItnPG",
        "outputId": "99bc2fd6-463a-465e-e403-f226218e696a"
      },
      "execution_count": 6,
      "outputs": [
        {
          "output_type": "execute_result",
          "data": {
            "text/plain": [
              "[29957.898287999997,\n",
              " 4184.141269999999,\n",
              " 2362.7133490000015,\n",
              " 681.9696600000001,\n",
              " 523.7131894763968,\n",
              " 427.9627769877217,\n",
              " 310.7456081343755,\n",
              " 267.0151528360775,\n",
              " 215.90071357303881,\n",
              " 197.47785963120424]"
            ]
          },
          "metadata": {},
          "execution_count": 6
        }
      ]
    },
    {
      "cell_type": "code",
      "source": [
        "plt.plot(range(1,11),wcss)"
      ],
      "metadata": {
        "colab": {
          "base_uri": "https://localhost:8080/",
          "height": 447
        },
        "id": "Qs837PG5tnSw",
        "outputId": "feb092a1-c3c0-41d4-bdfc-9d38e28063c2"
      },
      "execution_count": 7,
      "outputs": [
        {
          "output_type": "execute_result",
          "data": {
            "text/plain": [
              "[<matplotlib.lines.Line2D at 0x7c19ff82f9d0>]"
            ]
          },
          "metadata": {},
          "execution_count": 7
        },
        {
          "output_type": "display_data",
          "data": {
            "text/plain": [
              "<Figure size 640x480 with 1 Axes>"
            ],
            "image/png": "[encoded data removed]"
          },
          "metadata": {}
        }
      ]
    },
    {
      "cell_type": "code",
      "source": [
        "#as the graph gets stable at 4 so take k=4"
      ],
      "metadata": {
        "id": "zzKlzjM4tnVb"
      },
      "execution_count": null,
      "outputs": []
    },
    {
      "cell_type": "code",
      "source": [
        "X = df.iloc[:,:].values\n",
        "km = KMeans(n_clusters=4)\n",
        "y_means = km.fit_predict(X)"
      ],
      "metadata": {
        "id": "9PFIxlBItnYg"
      },
      "execution_count": 8,
      "outputs": []
    },
    {
      "cell_type": "code",
      "source": [
        "y_means"
      ],
      "metadata": {
        "colab": {
          "base_uri": "https://localhost:8080/"
        },
        "id": "c-zbSTsxuKOr",
        "outputId": "07d2c800-f904-4da5-fa68-87b7d4a08b88"
      },
      "execution_count": 9,
      "outputs": [
        {
          "output_type": "execute_result",
          "data": {
            "text/plain": [
              "array([1, 2, 3, 3, 2, 2, 3, 0, 2, 3, 1, 2, 3, 1, 2, 3, 2, 3, 2, 2, 3, 1,\n",
              "       3, 1, 1, 3, 1, 0, 3, 2, 0, 2, 0, 2, 3, 3, 0, 2, 1, 2, 1, 3, 3, 1,\n",
              "       0, 0, 3, 2, 0, 2, 1, 1, 0, 3, 0, 2, 2, 0, 2, 0, 2, 3, 3, 0, 1, 0,\n",
              "       3, 1, 2, 3, 2, 0, 3, 1, 2, 0, 2, 0, 1, 3, 3, 0, 2, 1, 0, 1, 0, 2,\n",
              "       0, 2, 0, 0, 3, 1, 3, 3, 0, 3, 1, 0, 2, 1, 1, 0, 1, 1, 3, 1, 0, 0,\n",
              "       3, 0, 2, 2, 3, 0, 3, 2, 0, 1, 1, 2, 3, 0, 3, 1, 3, 2, 1, 3, 3, 2,\n",
              "       1, 1, 2, 0, 2, 1, 3, 3, 3, 1, 2, 1, 1, 0, 1, 0, 2, 1, 0, 1, 0, 0,\n",
              "       1, 3, 2, 0, 2, 3, 1, 0, 2, 3, 0, 1, 2, 1, 1, 0, 0, 2, 0, 1, 1, 3,\n",
              "       0, 2, 1, 0, 0, 2, 2, 2, 3, 1, 3, 3, 0, 2, 3, 3, 1, 1, 3, 1, 0, 2,\n",
              "       2, 0], dtype=int32)"
            ]
          },
          "metadata": {},
          "execution_count": 9
        }
      ]
    },
    {
      "cell_type": "code",
      "source": [
        "X[y_means == 3,1] #cluster n0. 3 and y_axis"
      ],
      "metadata": {
        "colab": {
          "base_uri": "https://localhost:8080/"
        },
        "id": "qFFnXOyyuKRp",
        "outputId": "5a769ffa-a413-4e9b-b1b5-05c16cd5c8cc"
      },
      "execution_count": 10,
      "outputs": [
        {
          "output_type": "execute_result",
          "data": {
            "text/plain": [
              "array([ 93.,  97.,  98.,  94.,  97.,  95.,  91.,  98.,  92.,  98.,  94.,\n",
              "        96.,  96.,  96.,  93.,  94.,  96.,  96.,  95.,  93.,  95.,  94.,\n",
              "        92.,  91.,  92.,  95.,  94.,  95.,  92.,  94.,  91.,  95.,  93.,\n",
              "        97.,  98.,  96.,  93., 100.,  96.,  94.,  95.,  93.,  92.,  98.,\n",
              "        96.,  93.,  91.,  93.,  94.,  96.])"
            ]
          },
          "metadata": {},
          "execution_count": 10
        }
      ]
    },
    {
      "cell_type": "code",
      "source": [
        "plt.scatter(X[y_means == 0,0],X[y_means == 0,1],color='blue')\n",
        "plt.scatter(X[y_means == 1,0],X[y_means == 1,1],color='red')\n",
        "plt.scatter(X[y_means == 2,0],X[y_means == 2,1],color='green')\n",
        "plt.scatter(X[y_means == 3,0],X[y_means == 3,1],color='yellow')"
      ],
      "metadata": {
        "colab": {
          "base_uri": "https://localhost:8080/",
          "height": 447
        },
        "id": "jgeFX0_ouKUP",
        "outputId": "bea80f71-4388-4ec7-c594-dbd3a9e5fbd9"
      },
      "execution_count": 11,
      "outputs": [
        {
          "output_type": "execute_result",
          "data": {
            "text/plain": [
              "<matplotlib.collections.PathCollection at 0x7c19fc6c2fb0>"
            ]
          },
          "metadata": {},
          "execution_count": 11
        },
        {
          "output_type": "display_data",
          "data": {
            "text/plain": [
              "<Figure size 640x480 with 1 Axes>"
            ],
            "image/png": "[encoded data removed]"
          },
          "metadata": {}
        }
      ]
    },
    {
      "cell_type": "code",
      "source": [
        "#red cluster students are those which we have to focus mpre on as tey ave low iq as well as low cpga\n",
        "#green ones have good iq levels but need motivation to perform well."
      ],
      "metadata": {
        "id": "BCcX-RdOuKW2"
      },
      "execution_count": null,
      "outputs": []
    },
    {
      "cell_type": "code",
      "source": [],
      "metadata": {
        "id": "0sLw4YivuKZc"
      },
      "execution_count": null,
      "outputs": []
    },
    {
      "cell_type": "markdown",
      "source": [
        "# K-Means on 3-D Data"
      ],
      "metadata": {
        "id": "8U7NCES3ud3R"
      }
    },
    {
      "cell_type": "code",
      "source": [
        "from sklearn.datasets import make_blobs\n",
        "\n",
        "centroids = [(-5,-5,5),(5,5,-5),(3.5,-2.5,4),(-2.5,2.5,-4)]\n",
        "cluster_std = [1,1,1,1]\n",
        "\n",
        "X,y = make_blobs(n_samples=200,cluster_std=cluster_std,centers=centroids,n_features=3,random_state=1)"
      ],
      "metadata": {
        "id": "mx_DQhSlue2p"
      },
      "execution_count": 12,
      "outputs": []
    },
    {
      "cell_type": "code",
      "source": [
        "X"
      ],
      "metadata": {
        "collapsed": true,
        "colab": {
          "base_uri": "https://localhost:8080/"
        },
        "id": "1ooV2Copuh6a",
        "outputId": "bf9f672b-aadd-4882-f7f6-cfd634912b8f"
      },
      "execution_count": 13,
      "outputs": [
        {
          "output_type": "execute_result",
          "data": {
            "text/plain": [
              "array([[ 4.33424548,  3.32580419, -4.17497018],\n",
              "       [-3.32246719,  3.22171129, -4.625342  ],\n",
              "       [-6.07296862, -4.13459237,  2.6984613 ],\n",
              "       [ 6.90465871,  6.1110567 , -4.3409502 ],\n",
              "       [-2.60839207,  2.95015551, -2.2346649 ],\n",
              "       [ 5.88490881,  4.12271848, -5.86778722],\n",
              "       [-4.68484061, -4.15383935,  4.14048406],\n",
              "       [-1.82542929,  3.96089238, -3.4075272 ],\n",
              "       [-5.34385368, -4.95640314,  4.37999916],\n",
              "       [ 4.91549197,  4.70263812, -4.582698  ],\n",
              "       [-3.80108212, -4.81484358,  4.62471505],\n",
              "       [ 4.6735005 ,  3.65732421, -3.88561702],\n",
              "       [-6.23005814, -4.4494625 ,  5.79280687],\n",
              "       [-3.90232915,  2.95112294, -4.6949209 ],\n",
              "       [ 3.72744124,  5.31354772, -4.49681519],\n",
              "       [-3.3088472 ,  3.05743945, -3.81896126],\n",
              "       [ 2.70273021, -2.21732429,  3.17390257],\n",
              "       [ 4.06438286, -0.36217193,  3.214466  ],\n",
              "       [ 4.69268607, -2.73794194,  5.15528789],\n",
              "       [ 4.1210827 , -1.5438783 ,  3.29415949],\n",
              "       [-6.61577235, -3.87858229,  5.40890054],\n",
              "       [ 3.05777072, -2.17647265,  3.89000851],\n",
              "       [-1.48617753,  0.27288737, -5.6993336 ],\n",
              "       [-5.3224172 , -5.38405435,  6.13376944],\n",
              "       [-5.26621851, -4.96738545,  3.62688268],\n",
              "       [ 5.20183018,  5.66102029, -3.20784179],\n",
              "       [-2.9189379 ,  2.02081508, -5.95210529],\n",
              "       [ 3.30977897, -2.94873803,  3.32755196],\n",
              "       [ 5.12910158,  6.6169496 , -4.49725912],\n",
              "       [-2.46505641,  3.95391758, -3.33831892],\n",
              "       [ 1.46279877, -4.44258918,  1.49355935],\n",
              "       [ 3.87798127,  4.48290554, -5.99702683],\n",
              "       [ 4.10944442,  3.8808846 , -3.0439211 ],\n",
              "       [-6.09989127, -5.17242821,  4.12214158],\n",
              "       [-3.03223402,  3.6181334 , -3.3256039 ],\n",
              "       [ 7.44936865,  4.45422583, -5.19883786],\n",
              "       [-4.47053468, -4.86229879,  5.07782113],\n",
              "       [-1.46701622,  2.27758597, -2.52983966],\n",
              "       [ 3.0208429 , -2.14983284,  4.01716473],\n",
              "       [ 3.82427424, -2.47813716,  3.53132618],\n",
              "       [-5.74715829, -3.3075454 ,  5.05080775],\n",
              "       [-1.51364782,  2.03384514, -2.61500866],\n",
              "       [-4.80170028, -4.88099135,  4.32933771],\n",
              "       [ 6.55880554,  5.1094027 , -6.2197444 ],\n",
              "       [-1.48879294,  1.02343734, -4.14319575],\n",
              "       [ 4.30884436, -0.71024532,  4.45128402],\n",
              "       [ 3.58646441, -4.64246673,  3.16983114],\n",
              "       [ 3.37256166,  5.60231928, -4.5797178 ],\n",
              "       [-1.39282455,  3.94287693, -4.53968156],\n",
              "       [-4.64945402, -6.31228341,  4.96130449],\n",
              "       [ 3.88352998,  5.0809271 , -5.18657899],\n",
              "       [ 3.32454103, -3.43391466,  3.46697967],\n",
              "       [ 3.45029742, -2.03335673,  5.03368687],\n",
              "       [-2.95994283,  3.14435367, -3.62832971],\n",
              "       [-3.03289825, -6.85798186,  6.23616403],\n",
              "       [-4.13665468, -5.1809203 ,  4.39607937],\n",
              "       [-3.6134361 ,  2.43258998, -2.83856002],\n",
              "       [ 2.07344458, -0.73204005,  3.52462712],\n",
              "       [ 4.11798553, -2.68417633,  3.88401481],\n",
              "       [ 3.60337958,  4.13868364, -4.32528847],\n",
              "       [-5.84520564, -5.67124613,  4.9873354 ],\n",
              "       [-2.41031359,  1.8988432 , -3.44392649],\n",
              "       [-2.75898285,  2.6892932 , -4.56378873],\n",
              "       [-2.442879  ,  1.70045251, -4.2915946 ],\n",
              "       [ 3.9611641 , -3.67598267,  5.01012718],\n",
              "       [-7.02220122, -5.30620401,  5.82797464],\n",
              "       [ 2.90019547, -1.37658784,  4.30526704],\n",
              "       [ 5.81095167,  6.04444209, -5.40087819],\n",
              "       [-5.75439794, -3.74713184,  5.51292982],\n",
              "       [-2.77584606,  3.72895559, -2.69029409],\n",
              "       [ 3.07085772, -1.29154367,  5.1157018 ],\n",
              "       [ 2.206915  ,  6.93752881, -4.63366799],\n",
              "       [ 4.2996015 ,  4.79660555, -4.75733056],\n",
              "       [ 4.86355526,  4.88094581, -4.98259059],\n",
              "       [-4.38161974, -4.76750544,  5.68255141],\n",
              "       [ 5.42952614,  4.3930016 , -4.89377728],\n",
              "       [ 3.69427308,  4.65501279, -5.23083974],\n",
              "       [ 5.90148689,  7.52832571, -5.24863478],\n",
              "       [-4.87984105, -4.38279689,  5.30017032],\n",
              "       [ 3.93816635, -1.37767168,  3.0029802 ],\n",
              "       [-3.32862798,  3.02887975, -6.23708651],\n",
              "       [-4.76990526, -4.23798882,  4.77767186],\n",
              "       [-2.12754315,  2.3515102 , -4.1834002 ],\n",
              "       [-0.64699051,  2.64225137, -3.48649452],\n",
              "       [-5.63699565, -4.80908452,  7.10025514],\n",
              "       [-1.86341659,  3.90925339, -2.37908771],\n",
              "       [ 4.82529684,  5.98633519, -4.7864661 ],\n",
              "       [-5.24937038, -3.53789206,  2.93985929],\n",
              "       [-4.59650836, -4.40642148,  3.90508815],\n",
              "       [-3.66400797,  3.19336623, -4.75806733],\n",
              "       [ 6.29322588,  4.88955297, -5.61736206],\n",
              "       [-2.85340998,  0.71208711, -3.63815268],\n",
              "       [-2.35835946, -0.01630386, -4.59566788],\n",
              "       [ 5.61060505, -3.80653407,  4.07638048],\n",
              "       [-1.78695095,  3.80620607, -4.60460297],\n",
              "       [-6.11731035, -4.7655843 ,  6.65980218],\n",
              "       [-5.63873041, -4.57650565,  5.07734007],\n",
              "       [ 5.62336218,  4.56504332, -3.59246   ],\n",
              "       [-3.37234925, -4.6619883 ,  3.80073197],\n",
              "       [-5.69166075, -5.39675353,  4.3128273 ],\n",
              "       [ 7.19069973,  3.10363908, -5.64691669],\n",
              "       [-3.86837061, -3.48018318,  7.18557541],\n",
              "       [-4.62243621, -4.87817873,  6.12948391],\n",
              "       [ 5.21112476,  5.01652757, -4.82281228],\n",
              "       [-2.61877117,  2.30100182, -2.13352862],\n",
              "       [-2.92449279,  1.76846902, -5.56573815],\n",
              "       [-2.80912132,  3.01093777, -2.28933816],\n",
              "       [ 4.35328122, -2.91302931,  5.83471763],\n",
              "       [ 2.79865557, -3.03722302,  4.15626385],\n",
              "       [-3.65498263,  2.3223678 , -5.51045638],\n",
              "       [ 4.8887794 , -3.16134424,  7.03085711],\n",
              "       [ 4.94317552,  5.49233656, -5.68067814],\n",
              "       [ 3.97761018, -3.52188594,  4.79452824],\n",
              "       [-3.41844004,  2.39465529, -3.36980433],\n",
              "       [ 3.50854895, -2.66819884,  3.82581966],\n",
              "       [-2.63971173,  3.88631426, -3.45187042],\n",
              "       [-3.37565464, -5.61175641,  4.47182825],\n",
              "       [-2.37162301,  4.26041518, -3.03346075],\n",
              "       [ 1.81594001, -3.6601701 ,  5.35010682],\n",
              "       [ 5.04366899,  4.77368576, -3.66854289],\n",
              "       [-4.19813897, -4.9534327 ,  4.81343023],\n",
              "       [ 5.1340482 ,  6.20205486, -4.71525189],\n",
              "       [ 3.39320601, -1.04857074,  3.38196315],\n",
              "       [ 4.34086156, -2.60288722,  5.14690038],\n",
              "       [-0.80619089,  2.69686978, -3.83013074],\n",
              "       [-5.62353073, -4.47942366,  3.85565861],\n",
              "       [ 5.56578332, -3.97115693,  3.1698281 ],\n",
              "       [ 4.41347606,  3.76314662, -4.12416107],\n",
              "       [ 4.01507361, -5.28253447,  4.58464661],\n",
              "       [-5.02461696, -5.77516162,  6.27375593],\n",
              "       [ 5.55635552, -0.73975077,  3.93934751],\n",
              "       [-5.20075807, -4.81343861,  5.41005165],\n",
              "       [-2.52752939,  4.24643509, -4.77507029],\n",
              "       [-3.85527629, -4.09840928,  5.50249434],\n",
              "       [ 5.78477065,  4.04457474, -4.41408957],\n",
              "       [ 1.74407436, -1.7852104 ,  4.85270406],\n",
              "       [ 3.27123417, -0.88663863,  3.62519531],\n",
              "       [ 7.18697965,  5.44136444, -5.10015523],\n",
              "       [-2.78899734,  2.10818376, -3.31599867],\n",
              "       [-3.37000822,  2.86919047, -3.14671781],\n",
              "       [-4.30196797, -5.44712856,  6.2245077 ],\n",
              "       [ 3.95541062,  7.05117344, -4.414338  ],\n",
              "       [ 3.55912398,  6.23225307, -5.25417987],\n",
              "       [-3.09384307,  2.15609929, -5.00016919],\n",
              "       [-5.93576943, -5.26788808,  5.53035547],\n",
              "       [ 5.83600472,  6.54335911, -4.24119434],\n",
              "       [ 4.68988323,  2.56516224, -3.9611754 ],\n",
              "       [-5.29809284, -4.51148185,  4.92442829],\n",
              "       [-1.30216916,  4.20459417, -2.95991085],\n",
              "       [ 4.9268873 ,  6.16033857, -4.63050728],\n",
              "       [-3.30618482,  2.24832579, -3.61728483],\n",
              "       [ 4.50178644,  4.68901502, -5.00189148],\n",
              "       [ 3.86723181, -1.26710081,  3.57714304],\n",
              "       [ 4.32458463, -1.84541985,  3.94881155],\n",
              "       [ 4.87953543,  3.76687926, -6.18231813],\n",
              "       [ 3.51335268, -3.1946936 ,  4.6218035 ],\n",
              "       [-4.83061757, -4.25944355,  4.0462994 ],\n",
              "       [-1.6290302 ,  1.99154287, -3.22258079],\n",
              "       [ 1.62683902, -1.57938488,  3.96463208],\n",
              "       [ 6.39984394,  4.21808832, -5.43750898],\n",
              "       [ 5.82400562,  4.43769457, -3.04512192],\n",
              "       [-3.25518824, -5.7612069 ,  5.3190391 ],\n",
              "       [-4.95778625, -4.41718479,  3.89938082],\n",
              "       [ 2.75003038, -0.4453759 ,  4.05340954],\n",
              "       [ 3.85249436, -2.73643695,  4.7278135 ],\n",
              "       [-5.10174587, -4.13111384,  5.75041164],\n",
              "       [-4.83996293, -4.12383108,  5.31563495],\n",
              "       [ 1.086497  , -4.27756638,  3.22214117],\n",
              "       [ 4.61584111, -2.18972771,  1.90575218],\n",
              "       [-4.25795584, -5.19183555,  4.11237104],\n",
              "       [ 5.09542509,  5.92145007, -4.9392498 ],\n",
              "       [-6.39649634, -6.44411381,  4.49553414],\n",
              "       [ 5.26246745,  5.2764993 , -5.7332716 ],\n",
              "       [ 3.5353601 , -4.03879325,  3.55210482],\n",
              "       [ 5.24879916,  4.70335885, -4.50478868],\n",
              "       [ 5.61853913,  4.55682807, -3.18946509],\n",
              "       [-2.39265671,  1.10118718, -3.91823218],\n",
              "       [ 3.16871683, -2.11346085,  3.14854434],\n",
              "       [ 3.95161595, -1.39582567,  3.71826373],\n",
              "       [-4.09914405, -5.68372786,  4.87710977],\n",
              "       [-1.9845862 ,  1.38512895, -4.76730983],\n",
              "       [-1.45500559,  3.1085147 , -4.0693287 ],\n",
              "       [ 2.94250528, -1.56083126,  2.05667659],\n",
              "       [ 2.77440288, -3.36776868,  3.86402267],\n",
              "       [ 4.50088142, -2.88483225,  5.45810824],\n",
              "       [-5.35224985, -6.1425182 ,  4.65065728],\n",
              "       [-2.9148469 ,  2.95194604, -5.57915629],\n",
              "       [-4.06889792, -4.71441267,  5.88514116],\n",
              "       [ 3.47431968,  5.79502609, -5.37443832],\n",
              "       [ 3.66804833,  3.23931144, -6.65072127],\n",
              "       [-3.22239191,  3.59899633, -4.90163449],\n",
              "       [-3.6077125 ,  2.48228168, -5.71939447],\n",
              "       [ 5.5627611 ,  5.24073709, -4.71933492],\n",
              "       [ 1.38583608, -2.91163916,  5.27852808],\n",
              "       [ 4.42001793, -2.69505734,  4.80539342],\n",
              "       [ 4.71269214,  5.68006984, -5.3198016 ],\n",
              "       [-4.13744959,  6.4586027 , -3.35135636],\n",
              "       [-5.20889423, -4.41337681,  5.83898341],\n",
              "       [ 2.6194224 , -2.77909772,  5.62284909],\n",
              "       [-1.3989998 ,  3.28002714, -4.6294416 ]])"
            ]
          },
          "metadata": {},
          "execution_count": 13
        }
      ]
    },
    {
      "cell_type": "code",
      "source": [
        "import plotly.express as px\n",
        "fig = px.scatter_3d(x=X[:,0], y=X[:,1], z=X[:,2])\n",
        "fig.show()"
      ],
      "metadata": {
        "colab": {
          "base_uri": "https://localhost:8080/",
          "height": 542
        },
        "id": "hIljg5Q3uh9J",
        "outputId": "2bf57c5d-20e2-4b9f-d19b-4ccef1373653"
      },
      "execution_count": 14,
      "outputs": [
        {
          "output_type": "display_data",
          "data": {
            "text/html": [
              "<html>\n",
              "<head><meta charset=\"utf-8\" /></head>\n",
              "<body>\n",
              "    <div>            <script src=\"https://cdnjs.cloudflare.com/ajax/libs/mathjax/2.7.5/MathJax.js?config=TeX-AMS-MML_SVG\"></script><script type=\"text/javascript\">if (window.MathJax && window.MathJax.Hub && window.MathJax.Hub.Config) {window.MathJax.Hub.Config({SVG: {font: \"STIX-Web\"}});}</script>                <script type=\"text/javascript\">window.PlotlyConfig = {MathJaxConfig: 'local'};</script>\n",
              "        <script charset=\"utf-8\" src=\"https://cdn.plot.ly/plotly-2.35.2.min.js\"></script>                <div id=\"e7475f4f-7fc7-4b4b-9337-cb81057174b8\" class=\"plotly-graph-div\" style=\"height:525px; width:100%;\"></div>            <script type=\"text/javascript\">                                    window.PLOTLYENV=window.PLOTLYENV || {};                                    if (document.getElementById(\"e7475f4f-7fc7-4b4b-9337-cb81057174b8\")) {                    Plotly.newPlot(                        \"e7475f4f-7fc7-4b4b-9337-cb81057174b8\",                        [{\"hovertemplate\":\"x=%{x}\\u003cbr\\u003ey=%{y}\\u003cbr\\u003ez=%{z}\\u003cextra\\u003e\\u003c\\u002fextra\\u003e\",\"legendgroup\":\"\",\"marker\":{\"color\":\"#636efa\",\"symbol\":\"circle\"},\"mode\":\"markers\",\"name\":\"\",\"scene\":\"scene\",\"showlegend\":false,\"x\":[4.334245481800873,-3.322467188904252,-6.0729686221561705,6.904658708340981,-2.60839206717354,5.884908814464883,-4.6848406079577085,-1.8254292930439964,-5.343853675571076,4.91549197259537,-3.801082120098493,4.673500501921816,-6.230058135666962,-3.9023291454531366,3.7274412447540057,-3.3088471964721284,2.7027302145068703,4.064382855494314,4.6926860677546935,4.1210827008390085,-6.615772354703295,3.057770720486827,-1.4861775330282945,-5.322417204013507,-5.266218506003622,5.201830178874004,-2.918937897678123,3.3097789749151385,5.129101579710725,-2.46505641063626,1.462798774319205,3.8779812712531117,4.109444415836951,-6.099891267314031,-3.0322340208981773,7.449368649061397,-4.470534675647291,-1.4670162210502489,3.02084290121392,3.824274243448421,-5.747158293750838,-1.5136478197879357,-4.801700279873231,6.5588055406198595,-1.4887929362250916,4.308844360265682,3.5864644065242874,3.3725616593837424,-1.3928245490509377,-4.649454021335893,3.8835299821152556,3.3245410313382475,3.450297420841324,-2.959942830840687,-3.0328982507452653,-4.136654682455978,-3.6134361029729902,2.0734445794794683,4.117985533920335,3.603379575404568,-5.84520564149872,-2.4103135926774097,-2.7589828534005325,-2.442879003917908,3.9611640999770175,-7.022201215824003,2.9001954689291525,5.810951672803556,-5.754397940996653,-2.7758460625611434,3.0708577217649062,2.20691499985346,4.299601495078745,4.863555256103967,-4.381619738001476,5.429526140021965,3.6942730774422623,5.901486891648711,-4.8798410475183704,3.9381663472912374,-3.3286279788564057,-4.769905264635616,-2.1275431484885576,-0.646990514930621,-5.636995646569353,-1.863416590585369,4.825296840257499,-5.24937037547741,-4.5965083582092,-3.664007971161202,6.293225882532262,-2.8534099828670145,-2.358359462334195,5.610605053600709,-1.7869509496967309,-6.117310348635278,-5.638730407454222,5.623362176578032,-3.3723492468510936,-5.691660751725309,7.190699728969733,-3.8683706125485733,-4.62243621367908,5.211124755007717,-2.6187711721030893,-2.9244927905709273,-2.809121318641862,4.353281221955623,2.798655573742823,-3.6549826349293646,4.888779396370269,4.943175519114153,3.9776101818175573,-3.4184400383000257,3.508548945436025,-2.6397117304410727,-3.3756546363367583,-2.371623009844056,1.8159400141317628,5.043668993178389,-4.198138968128656,5.134048196554623,3.393206013220775,4.340861558141103,-0.806190886711919,-5.623530729679792,5.565783320218834,4.413476061178407,4.015073613639366,-5.0246169558757785,5.5563555231982935,-5.200758068929997,-2.527529386267978,-3.855276290160386,5.78477065101559,1.7440743597671482,3.2712341711298376,7.186979646974258,-2.788997343009816,-3.370008223190852,-4.301967965927781,3.955410618092208,3.55912397570816,-3.0938430672545096,-5.935769434259068,5.836004719434269,4.68988322648194,-5.2980928351027154,-1.302169158278749,4.926887296252723,-3.306184817382224,4.5017864363689215,3.8672318138838646,4.324584625033458,4.879535428211493,3.5133526763471767,-4.830617566941332,-1.6290301974677577,1.6268390223646985,6.399843942480986,5.824005618450408,-3.2551882357835202,-4.957786253284407,2.7500303827243338,3.852494364369333,-5.101745872529145,-4.839962930552169,1.0864969988262123,4.615841107924169,-4.257955839422665,5.095425087191257,-6.396496335488138,5.262467445463269,3.5353600970547574,5.248799161387771,5.618539130786293,-2.3926567061764104,3.1687168300673716,3.9516159505552415,-4.099144050735588,-1.984586198216759,-1.4550055903261025,2.9425052782139565,2.7744028808655727,4.500881423680301,-5.352249846493518,-2.9148469012882354,-4.068897918696443,3.4743196837706423,3.668048333482752,-3.2223919054141508,-3.6077125022845524,5.562761096619027,1.385836078083174,4.420017933247763,4.712692136523981,-4.137449593008341,-5.208894233374778,2.619422400155829,-1.3989997973315182],\"y\":[3.325804192381068,3.2217112921126927,-4.134592370675321,6.111056698560505,2.950155512767179,4.122718481081812,-4.153839352414966,3.9608923804630782,-4.956403143165753,4.702638117226496,-4.8148435825160565,3.657324210622564,-4.449462504023785,2.9511229387345987,5.313547720463432,3.0574394528580333,-2.2173242877515795,-0.3621719325605177,-2.7379419357521826,-1.5438782958753037,-3.878582291764336,-2.176472646398568,0.2728873681499855,-5.384054354668415,-4.967385453306641,5.661020287598693,2.020815084872594,-2.948738032671623,6.6169495988573,3.9539175816088177,-4.442589181476455,4.482905542079772,3.880884601440272,-5.1724282075504355,3.6181333967176954,4.454225832017432,-4.862298790002614,2.2775859714700912,-2.149832841171721,-2.4781371633734475,-3.3075453989722536,2.033845143174072,-4.880991354192541,5.109402696425428,1.0234373394798197,-0.7102453167937288,-4.642466729077368,5.602319280295629,3.942876928496309,-6.3122834112374315,5.080927100973279,-3.4339146556265012,-2.0333567327711592,3.144353666030322,-6.857981864446752,-5.1809203020781505,2.4325899750531454,-0.7320400516889736,-2.684176325653745,4.138683639223958,-5.671246130836819,1.8988431993506165,2.6892931975586576,1.70045250930824,-3.6759826714413153,-5.306204012628372,-1.3765878379780647,6.044442094707259,-3.747131844766712,3.7289555856506973,-1.291543671448037,6.93752881361608,4.796605551035442,4.88094581222519,-4.767505440821262,4.393001601799954,4.655012789845021,7.528325706806398,-4.382796890292581,-1.3776716783429077,3.028879745585174,-4.237988819687975,2.3515101969406063,2.6422513725263177,-4.809084515332534,3.9092533893640082,5.986335187821242,-3.537892062955026,-4.406421476762933,3.1933662256603847,4.889552973582684,0.7120871088002843,-0.016303860965749095,-3.8065340728440185,3.8062060651354486,-4.765584302182908,-4.576505645935887,4.565043317044772,-4.661988303425524,-5.396753526855977,3.1036390771089075,-3.480183183577801,-4.878178729008563,5.016527567305616,2.3010018161962758,1.7684690182696667,3.0109377744920893,-2.9130293097110322,-3.037223023875338,2.322367804016449,-3.1613442431530188,5.492336555936649,-3.5218859446413093,2.394655287492458,-2.668198839744716,3.8863142642463187,-5.611756413650076,4.260415183575322,-3.660170104982276,4.773685757486395,-4.953432701575855,6.202054862199706,-1.0485707394090646,-2.602887217573538,2.6968697792502914,-4.479423662926629,-3.971156925832625,3.763146623458603,-5.282534467652923,-5.775161619169159,-0.7397507735509068,-4.813438609011715,4.2464350892279725,-4.098409279407204,4.044574737626311,-1.7852104025141846,-0.8866386254368845,5.441364443568582,2.1081837601919515,2.869190469546874,-5.447128564785999,7.051173442857444,6.2322530708284365,2.1560992907896077,-5.267888079626016,6.5433591108044835,2.565162235892861,-4.511481853462503,4.204594171372407,6.16033856999377,2.2483257923685755,4.689015021697149,-1.2671008076237629,-1.8454198474132997,3.766879264553573,-3.194693595287226,-4.259443548903725,1.9915428657245993,-1.5793848819450438,4.2180883173131996,4.43769456898091,-5.761206900895103,-4.417184786284178,-0.4453758974818842,-2.7364369518129865,-4.131113842994132,-4.123831078883775,-4.277566375805987,-2.1897277122162326,-5.191835552361615,5.921450068659511,-6.4441138054295894,5.276499304822184,-4.038793245744643,4.703358847629137,4.556828069299362,1.1011871813335237,-2.1134608548669087,-1.3958256736967865,-5.683727859174333,1.3851289476340631,3.1085146984848495,-1.5608312558035122,-3.3677686776235904,-2.88483224883279,-6.14251819802214,2.951946037321223,-4.714412674745741,5.795026094424845,3.2393114396012166,3.5989963327471792,2.482281682089858,5.240737092237732,-2.9116391631884824,-2.695057340875901,5.680069839878104,6.458602704037963,-4.4133768088178025,-2.77909772154329,3.2800271353386297],\"z\":[-4.174970175561014,-4.625342001465988,2.6984613031197173,-4.34095020389979,-2.2346648994809284,-5.867787222872925,4.140484059168013,-3.40752719857598,4.379999156051871,-4.582697995025137,4.624715049909886,-3.885617023220208,5.7928068659193475,-4.694920901185239,-4.496815186564674,-3.818961255642129,3.1739025681526796,3.2144660030797647,5.155287886088225,3.294159492597716,5.408900537936828,3.890008509836393,-5.6993336047222956,6.133769442335438,3.626882679753244,-3.207841791024433,-5.9521052872452325,3.3275519612134037,-4.497259118000096,-3.3383189235340174,1.4935593473239388,-5.997026827650263,-3.043921096296358,4.122141582078628,-3.325603895179131,-5.1988378628888965,5.077821127912706,-2.5298396561742598,4.017164726374088,3.5313261837221086,5.050807754776029,-2.6150086563513613,4.329337713710969,-6.219744396979033,-4.143195745007238,4.451284016040171,3.169831135977292,-4.5797177963529405,-4.539681562202492,4.961304490733949,-5.186578993511466,3.4669796739164007,5.033686867939501,-3.6283297087881348,6.23616403045282,4.396079372206743,-2.838560018325606,3.524627124862018,3.8840148145276037,-4.3252884743120275,4.987335401081099,-3.4439264899226147,-4.563788734582303,-4.2915945955008326,5.0101271773347245,5.827974642607246,4.3052670402440105,-5.400878191788927,5.512929820418009,-2.6902940943173466,5.1157018027844865,-4.633667985459942,-4.7573305589182056,-4.982590591699996,5.682551406864485,-4.893777275964783,-5.230839743135469,-5.24863477771546,5.300170319955828,3.0029802044703175,-6.237086511112471,4.777671857389641,-4.183400197320024,-3.4864945200114525,7.100255136478842,-2.3790877143782527,-4.786466098664558,2.939859290502346,3.905088154258958,-4.7580673285562325,-5.617362063712361,-3.6381526841604317,-4.59566788091029,4.076380480159592,-4.604602969164376,6.659802177109871,5.077340068348559,-3.5924599997587716,3.800731967664814,4.312827299880401,-5.646916688254908,7.185575406533161,6.129483907911919,-4.822812279724039,-2.133528624847875,-5.565738150655905,-2.289338161328865,5.834717626649686,4.156263850270083,-5.510456375087569,7.030857112372031,-5.680678141008886,4.794528239601083,-3.369804329315089,3.825819655692009,-3.4518704153118067,4.4718282477365445,-3.033460749770943,5.350106818681726,-3.668542887412408,4.813430228092651,-4.715251889150942,3.3819631523184213,5.146900376399483,-3.830130744652428,3.8556586103768575,3.169828104684886,-4.1241610723507005,4.584646610477426,6.273755930158776,3.93934750822519,5.410051647208256,-4.775070287073435,5.502494338901868,-4.414089568897384,4.852704061725286,3.6251953126973473,-5.1001552332835,-3.315998671818047,-3.1467178141762666,6.224507704805498,-4.414337999827618,-5.254179867607368,-5.000169189872516,5.530355466738186,-4.241194339902069,-3.961175398140586,4.924428286978944,-2.9599108468459048,-4.630507283624277,-3.617284826275636,-5.001891482838004,3.5771430386092247,3.948811552392336,-6.182318126509633,4.621803504305572,4.046299398192065,-3.222580794751137,3.964632075121289,-5.4375089828285805,-3.0451219249909656,5.319039096057098,3.8993808227870788,4.053409536798348,4.727813499999649,5.750411639865008,5.315634947241605,3.222141173372587,1.9057521837771878,4.112371035915164,-4.939249804200493,4.495534137053549,-5.733271603895313,3.5521048152838812,-4.50478867602204,-3.1894650858745437,-3.9182321811943837,3.1485443434691733,3.718263730934387,4.877109774481352,-4.767309826331735,-4.069328696690483,2.0566765943316474,3.864022673899411,5.45810823860952,4.650657277587123,-5.579156285394466,5.885141164270728,-5.374438318843221,-6.6507212658241,-4.901634490475998,-5.7193944746195235,-4.719334922877361,5.278528082841722,4.805393424232181,-5.319801598898671,-3.3513563559093327,5.838983413874505,5.622849085954001,-4.62944160405378],\"type\":\"scatter3d\"}],                        {\"template\":{\"data\":{\"histogram2dcontour\":[{\"type\":\"histogram2dcontour\",\"colorbar\":{\"outlinewidth\":0,\"ticks\":\"\"},\"colorscale\":[[0.0,\"#0d0887\"],[0.1111111111111111,\"#46039f\"],[0.2222222222222222,\"#7201a8\"],[0.3333333333333333,\"#9c179e\"],[0.4444444444444444,\"#bd3786\"],[0.5555555555555556,\"#d8576b\"],[0.6666666666666666,\"#ed7953\"],[0.7777777777777778,\"#fb9f3a\"],[0.8888888888888888,\"#fdca26\"],[1.0,\"#f0f921\"]]}],\"choropleth\":[{\"type\":\"choropleth\",\"colorbar\":{\"outlinewidth\":0,\"ticks\":\"\"}}],\"histogram2d\":[{\"type\":\"histogram2d\",\"colorbar\":{\"outlinewidth\":0,\"ticks\":\"\"},\"colorscale\":[[0.0,\"#0d0887\"],[0.1111111111111111,\"#46039f\"],[0.2222222222222222,\"#7201a8\"],[0.3333333333333333,\"#9c179e\"],[0.4444444444444444,\"#bd3786\"],[0.5555555555555556,\"#d8576b\"],[0.6666666666666666,\"#ed7953\"],[0.7777777777777778,\"#fb9f3a\"],[0.8888888888888888,\"#fdca26\"],[1.0,\"#f0f921\"]]}],\"heatmap\":[{\"type\":\"heatmap\",\"colorbar\":{\"outlinewidth\":0,\"ticks\":\"\"},\"colorscale\":[[0.0,\"#0d0887\"],[0.1111111111111111,\"#46039f\"],[0.2222222222222222,\"#7201a8\"],[0.3333333333333333,\"#9c179e\"],[0.4444444444444444,\"#bd3786\"],[0.5555555555555556,\"#d8576b\"],[0.6666666666666666,\"#ed7953\"],[0.7777777777777778,\"#fb9f3a\"],[0.8888888888888888,\"#fdca26\"],[1.0,\"#f0f921\"]]}],\"heatmapgl\":[{\"type\":\"heatmapgl\",\"colorbar\":{\"outlinewidth\":0,\"ticks\":\"\"},\"colorscale\":[[0.0,\"#0d0887\"],[0.1111111111111111,\"#46039f\"],[0.2222222222222222,\"#7201a8\"],[0.3333333333333333,\"#9c179e\"],[0.4444444444444444,\"#bd3786\"],[0.5555555555555556,\"#d8576b\"],[0.6666666666666666,\"#ed7953\"],[0.7777777777777778,\"#fb9f3a\"],[0.8888888888888888,\"#fdca26\"],[1.0,\"#f0f921\"]]}],\"contourcarpet\":[{\"type\":\"contourcarpet\",\"colorbar\":{\"outlinewidth\":0,\"ticks\":\"\"}}],\"contour\":[{\"type\":\"contour\",\"colorbar\":{\"outlinewidth\":0,\"ticks\":\"\"},\"colorscale\":[[0.0,\"#0d0887\"],[0.1111111111111111,\"#46039f\"],[0.2222222222222222,\"#7201a8\"],[0.3333333333333333,\"#9c179e\"],[0.4444444444444444,\"#bd3786\"],[0.5555555555555556,\"#d8576b\"],[0.6666666666666666,\"#ed7953\"],[0.7777777777777778,\"#fb9f3a\"],[0.8888888888888888,\"#fdca26\"],[1.0,\"#f0f921\"]]}],\"surface\":[{\"type\":\"surface\",\"colorbar\":{\"outlinewidth\":0,\"ticks\":\"\"},\"colorscale\":[[0.0,\"#0d0887\"],[0.1111111111111111,\"#46039f\"],[0.2222222222222222,\"#7201a8\"],[0.3333333333333333,\"#9c179e\"],[0.4444444444444444,\"#bd3786\"],[0.5555555555555556,\"#d8576b\"],[0.6666666666666666,\"#ed7953\"],[0.7777777777777778,\"#fb9f3a\"],[0.8888888888888888,\"#fdca26\"],[1.0,\"#f0f921\"]]}],\"mesh3d\":[{\"type\":\"mesh3d\",\"colorbar\":{\"outlinewidth\":0,\"ticks\":\"\"}}],\"scatter\":[{\"fillpattern\":{\"fillmode\":\"overlay\",\"size\":10,\"solidity\":0.2},\"type\":\"scatter\"}],\"parcoords\":[{\"type\":\"parcoords\",\"line\":{\"colorbar\":{\"outlinewidth\":0,\"ticks\":\"\"}}}],\"scatterpolargl\":[{\"type\":\"scatterpolargl\",\"marker\":{\"colorbar\":{\"outlinewidth\":0,\"ticks\":\"\"}}}],\"bar\":[{\"error_x\":{\"color\":\"#2a3f5f\"},\"error_y\":{\"color\":\"#2a3f5f\"},\"marker\":{\"line\":{\"color\":\"#E5ECF6\",\"width\":0.5},\"pattern\":{\"fillmode\":\"overlay\",\"size\":10,\"solidity\":0.2}},\"type\":\"bar\"}],\"scattergeo\":[{\"type\":\"scattergeo\",\"marker\":{\"colorbar\":{\"outlinewidth\":0,\"ticks\":\"\"}}}],\"scatterpolar\":[{\"type\":\"scatterpolar\",\"marker\":{\"colorbar\":{\"outlinewidth\":0,\"ticks\":\"\"}}}],\"histogram\":[{\"marker\":{\"pattern\":{\"fillmode\":\"overlay\",\"size\":10,\"solidity\":0.2}},\"type\":\"histogram\"}],\"scattergl\":[{\"type\":\"scattergl\",\"marker\":{\"colorbar\":{\"outlinewidth\":0,\"ticks\":\"\"}}}],\"scatter3d\":[{\"type\":\"scatter3d\",\"line\":{\"colorbar\":{\"outlinewidth\":0,\"ticks\":\"\"}},\"marker\":{\"colorbar\":{\"outlinewidth\":0,\"ticks\":\"\"}}}],\"scattermapbox\":[{\"type\":\"scattermapbox\",\"marker\":{\"colorbar\":{\"outlinewidth\":0,\"ticks\":\"\"}}}],\"scatterternary\":[{\"type\":\"scatterternary\",\"marker\":{\"colorbar\":{\"outlinewidth\":0,\"ticks\":\"\"}}}],\"scattercarpet\":[{\"type\":\"scattercarpet\",\"marker\":{\"colorbar\":{\"outlinewidth\":0,\"ticks\":\"\"}}}],\"carpet\":[{\"aaxis\":{\"endlinecolor\":\"#2a3f5f\",\"gridcolor\":\"white\",\"linecolor\":\"white\",\"minorgridcolor\":\"white\",\"startlinecolor\":\"#2a3f5f\"},\"baxis\":{\"endlinecolor\":\"#2a3f5f\",\"gridcolor\":\"white\",\"linecolor\":\"white\",\"minorgridcolor\":\"white\",\"startlinecolor\":\"#2a3f5f\"},\"type\":\"carpet\"}],\"table\":[{\"cells\":{\"fill\":{\"color\":\"#EBF0F8\"},\"line\":{\"color\":\"white\"}},\"header\":{\"fill\":{\"color\":\"#C8D4E3\"},\"line\":{\"color\":\"white\"}},\"type\":\"table\"}],\"barpolar\":[{\"marker\":{\"line\":{\"color\":\"#E5ECF6\",\"width\":0.5},\"pattern\":{\"fillmode\":\"overlay\",\"size\":10,\"solidity\":0.2}},\"type\":\"barpolar\"}],\"pie\":[{\"automargin\":true,\"type\":\"pie\"}]},\"layout\":{\"autotypenumbers\":\"strict\",\"colorway\":[\"#636efa\",\"#EF553B\",\"#00cc96\",\"#ab63fa\",\"#FFA15A\",\"#19d3f3\",\"#FF6692\",\"#B6E880\",\"#FF97FF\",\"#FECB52\"],\"font\":{\"color\":\"#2a3f5f\"},\"hovermode\":\"closest\",\"hoverlabel\":{\"align\":\"left\"},\"paper_bgcolor\":\"white\",\"plot_bgcolor\":\"#E5ECF6\",\"polar\":{\"bgcolor\":\"#E5ECF6\",\"angularaxis\":{\"gridcolor\":\"white\",\"linecolor\":\"white\",\"ticks\":\"\"},\"radialaxis\":{\"gridcolor\":\"white\",\"linecolor\":\"white\",\"ticks\":\"\"}},\"ternary\":{\"bgcolor\":\"#E5ECF6\",\"aaxis\":{\"gridcolor\":\"white\",\"linecolor\":\"white\",\"ticks\":\"\"},\"baxis\":{\"gridcolor\":\"white\",\"linecolor\":\"white\",\"ticks\":\"\"},\"caxis\":{\"gridcolor\":\"white\",\"linecolor\":\"white\",\"ticks\":\"\"}},\"coloraxis\":{\"colorbar\":{\"outlinewidth\":0,\"ticks\":\"\"}},\"colorscale\":{\"sequential\":[[0.0,\"#0d0887\"],[0.1111111111111111,\"#46039f\"],[0.2222222222222222,\"#7201a8\"],[0.3333333333333333,\"#9c179e\"],[0.4444444444444444,\"#bd3786\"],[0.5555555555555556,\"#d8576b\"],[0.6666666666666666,\"#ed7953\"],[0.7777777777777778,\"#fb9f3a\"],[0.8888888888888888,\"#fdca26\"],[1.0,\"#f0f921\"]],\"sequentialminus\":[[0.0,\"#0d0887\"],[0.1111111111111111,\"#46039f\"],[0.2222222222222222,\"#7201a8\"],[0.3333333333333333,\"#9c179e\"],[0.4444444444444444,\"#bd3786\"],[0.5555555555555556,\"#d8576b\"],[0.6666666666666666,\"#ed7953\"],[0.7777777777777778,\"#fb9f3a\"],[0.8888888888888888,\"#fdca26\"],[1.0,\"#f0f921\"]],\"diverging\":[[0,\"#8e0152\"],[0.1,\"#c51b7d\"],[0.2,\"#de77ae\"],[0.3,\"#f1b6da\"],[0.4,\"#fde0ef\"],[0.5,\"#f7f7f7\"],[0.6,\"#e6f5d0\"],[0.7,\"#b8e186\"],[0.8,\"#7fbc41\"],[0.9,\"#4d9221\"],[1,\"#276419\"]]},\"xaxis\":{\"gridcolor\":\"white\",\"linecolor\":\"white\",\"ticks\":\"\",\"title\":{\"standoff\":15},\"zerolinecolor\":\"white\",\"automargin\":true,\"zerolinewidth\":2},\"yaxis\":{\"gridcolor\":\"white\",\"linecolor\":\"white\",\"ticks\":\"\",\"title\":{\"standoff\":15},\"zerolinecolor\":\"white\",\"automargin\":true,\"zerolinewidth\":2},\"scene\":{\"xaxis\":{\"backgroundcolor\":\"#E5ECF6\",\"gridcolor\":\"white\",\"linecolor\":\"white\",\"showbackground\":true,\"ticks\":\"\",\"zerolinecolor\":\"white\",\"gridwidth\":2},\"yaxis\":{\"backgroundcolor\":\"#E5ECF6\",\"gridcolor\":\"white\",\"linecolor\":\"white\",\"showbackground\":true,\"ticks\":\"\",\"zerolinecolor\":\"white\",\"gridwidth\":2},\"zaxis\":{\"backgroundcolor\":\"#E5ECF6\",\"gridcolor\":\"white\",\"linecolor\":\"white\",\"showbackground\":true,\"ticks\":\"\",\"zerolinecolor\":\"white\",\"gridwidth\":2}},\"shapedefaults\":{\"line\":{\"color\":\"#2a3f5f\"}},\"annotationdefaults\":{\"arrowcolor\":\"#2a3f5f\",\"arrowhead\":0,\"arrowwidth\":1},\"geo\":{\"bgcolor\":\"white\",\"landcolor\":\"#E5ECF6\",\"subunitcolor\":\"white\",\"showland\":true,\"showlakes\":true,\"lakecolor\":\"white\"},\"title\":{\"x\":0.05},\"mapbox\":{\"style\":\"light\"}}},\"scene\":{\"domain\":{\"x\":[0.0,1.0],\"y\":[0.0,1.0]},\"xaxis\":{\"title\":{\"text\":\"x\"}},\"yaxis\":{\"title\":{\"text\":\"y\"}},\"zaxis\":{\"title\":{\"text\":\"z\"}}},\"legend\":{\"tracegroupgap\":0},\"margin\":{\"t\":60}},                        {\"responsive\": true}                    ).then(function(){\n",
              "                            \n",
              "var gd = document.getElementById('e7475f4f-7fc7-4b4b-9337-cb81057174b8');\n",
              "var x = new MutationObserver(function (mutations, observer) {{\n",
              "        var display = window.getComputedStyle(gd).display;\n",
              "        if (!display || display === 'none') {{\n",
              "            console.log([gd, 'removed!']);\n",
              "            Plotly.purge(gd);\n",
              "            observer.disconnect();\n",
              "        }}\n",
              "}});\n",
              "\n",
              "// Listen for the removal of the full notebook cells\n",
              "var notebookContainer = gd.closest('#notebook-container');\n",
              "if (notebookContainer) {{\n",
              "    x.observe(notebookContainer, {childList: true});\n",
              "}}\n",
              "\n",
              "// Listen for the clearing of the current output cell\n",
              "var outputEl = gd.closest('.output');\n",
              "if (outputEl) {{\n",
              "    x.observe(outputEl, {childList: true});\n",
              "}}\n",
              "\n",
              "                        })                };                            </script>        </div>\n",
              "</body>\n",
              "</html>"
            ]
          },
          "metadata": {}
        }
      ]
    },
    {
      "cell_type": "code",
      "source": [
        "wcss = []\n",
        "for i in range(1,21):\n",
        "    km = KMeans(n_clusters=i)\n",
        "    km.fit_predict(X)\n",
        "    wcss.append(km.inertia_)"
      ],
      "metadata": {
        "id": "y7RM4Oqbuh_u"
      },
      "execution_count": 15,
      "outputs": []
    },
    {
      "cell_type": "code",
      "source": [
        "plt.plot(range(1,21),wcss)"
      ],
      "metadata": {
        "colab": {
          "base_uri": "https://localhost:8080/",
          "height": 447
        },
        "id": "-kOSEw0NuiCV",
        "outputId": "1d02a845-a227-43ae-b6c8-1fb748bf6b6a"
      },
      "execution_count": 16,
      "outputs": [
        {
          "output_type": "execute_result",
          "data": {
            "text/plain": [
              "[<matplotlib.lines.Line2D at 0x7c19fb0e4af0>]"
            ]
          },
          "metadata": {},
          "execution_count": 16
        },
        {
          "output_type": "display_data",
          "data": {
            "text/plain": [
              "<Figure size 640x480 with 1 Axes>"
            ],
            "image/png": "[encoded data removed]"
          },
          "metadata": {}
        }
      ]
    },
    {
      "cell_type": "code",
      "source": [
        "km = KMeans(n_clusters=4)\n",
        "y_pred = km.fit_predict(X)"
      ],
      "metadata": {
        "id": "YcTjcNj5uqE1"
      },
      "execution_count": 17,
      "outputs": []
    },
    {
      "cell_type": "code",
      "source": [
        "df = pd.DataFrame()\n",
        "\n",
        "df['col1'] = X[:,0]\n",
        "df['col2'] = X[:,1]\n",
        "df['col3'] = X[:,2]\n",
        "df['label'] = y_pred"
      ],
      "metadata": {
        "id": "X8wzF1ftuqHj"
      },
      "execution_count": 18,
      "outputs": []
    },
    {
      "cell_type": "code",
      "source": [
        "fig = px.scatter_3d(df,x='col1', y='col2', z='col3',color='label')\n",
        "fig.show()"
      ],
      "metadata": {
        "colab": {
          "base_uri": "https://localhost:8080/",
          "height": 542
        },
        "id": "z1g8eQReuqKS",
        "outputId": "3c53b871-45d5-4113-e4fa-16234aab06f0"
      },
      "execution_count": 19,
      "outputs": [
        {
          "output_type": "display_data",
          "data": {
            "text/html": [
              "<html>\n",
              "<head><meta charset=\"utf-8\" /></head>\n",
              "<body>\n",
              "    <div>            <script src=\"https://cdnjs.cloudflare.com/ajax/libs/mathjax/2.7.5/MathJax.js?config=TeX-AMS-MML_SVG\"></script><script type=\"text/javascript\">if (window.MathJax && window.MathJax.Hub && window.MathJax.Hub.Config) {window.MathJax.Hub.Config({SVG: {font: \"STIX-Web\"}});}</script>                <script type=\"text/javascript\">window.PlotlyConfig = {MathJaxConfig: 'local'};</script>\n",
              "        <script charset=\"utf-8\" src=\"https://cdn.plot.ly/plotly-2.35.2.min.js\"></script>                <div id=\"98353ddc-ae41-411b-bada-0ac4ed3dac46\" class=\"plotly-graph-div\" style=\"height:525px; width:100%;\"></div>            <script type=\"text/javascript\">                                    window.PLOTLYENV=window.PLOTLYENV || {};                                    if (document.getElementById(\"98353ddc-ae41-411b-bada-0ac4ed3dac46\")) {                    Plotly.newPlot(                        \"98353ddc-ae41-411b-bada-0ac4ed3dac46\",                        [{\"hovertemplate\":\"col1=%{x}\\u003cbr\\u003ecol2=%{y}\\u003cbr\\u003ecol3=%{z}\\u003cbr\\u003elabel=%{marker.color}\\u003cextra\\u003e\\u003c\\u002fextra\\u003e\",\"legendgroup\":\"\",\"marker\":{\"color\":[0,3,2,0,3,0,2,3,2,0,2,0,2,3,0,3,1,1,1,1,2,1,3,2,2,0,3,1,0,3,1,0,0,2,3,0,2,3,1,1,2,3,2,0,3,1,1,0,3,2,0,1,1,3,2,2,3,1,1,0,2,3,3,3,1,2,1,0,2,3,1,0,0,0,2,0,0,0,2,1,3,2,3,3,2,3,0,2,2,3,0,3,3,1,3,2,2,0,2,2,0,2,2,0,3,3,3,1,1,3,1,0,1,3,1,3,2,3,1,0,2,0,1,1,3,2,1,0,1,2,1,2,3,2,0,1,1,0,3,3,2,0,0,3,2,0,0,2,3,0,3,0,1,1,0,1,2,3,1,0,0,2,2,1,1,2,2,1,1,2,0,2,0,1,0,0,3,1,1,2,3,3,1,1,1,2,3,2,0,0,3,3,0,1,1,0,3,2,1,3],\"coloraxis\":\"coloraxis\",\"symbol\":\"circle\"},\"mode\":\"markers\",\"name\":\"\",\"scene\":\"scene\",\"showlegend\":false,\"x\":[4.334245481800873,-3.322467188904252,-6.0729686221561705,6.904658708340981,-2.60839206717354,5.884908814464883,-4.6848406079577085,-1.8254292930439964,-5.343853675571076,4.91549197259537,-3.801082120098493,4.673500501921816,-6.230058135666962,-3.9023291454531366,3.7274412447540057,-3.3088471964721284,2.7027302145068703,4.064382855494314,4.6926860677546935,4.1210827008390085,-6.615772354703295,3.057770720486827,-1.4861775330282945,-5.322417204013507,-5.266218506003622,5.201830178874004,-2.918937897678123,3.3097789749151385,5.129101579710725,-2.46505641063626,1.462798774319205,3.8779812712531117,4.109444415836951,-6.099891267314031,-3.0322340208981773,7.449368649061397,-4.470534675647291,-1.4670162210502489,3.02084290121392,3.824274243448421,-5.747158293750838,-1.5136478197879357,-4.801700279873231,6.5588055406198595,-1.4887929362250916,4.308844360265682,3.5864644065242874,3.3725616593837424,-1.3928245490509377,-4.649454021335893,3.8835299821152556,3.3245410313382475,3.450297420841324,-2.959942830840687,-3.0328982507452653,-4.136654682455978,-3.6134361029729902,2.0734445794794683,4.117985533920335,3.603379575404568,-5.84520564149872,-2.4103135926774097,-2.7589828534005325,-2.442879003917908,3.9611640999770175,-7.022201215824003,2.9001954689291525,5.810951672803556,-5.754397940996653,-2.7758460625611434,3.0708577217649062,2.20691499985346,4.299601495078745,4.863555256103967,-4.381619738001476,5.429526140021965,3.6942730774422623,5.901486891648711,-4.8798410475183704,3.9381663472912374,-3.3286279788564057,-4.769905264635616,-2.1275431484885576,-0.646990514930621,-5.636995646569353,-1.863416590585369,4.825296840257499,-5.24937037547741,-4.5965083582092,-3.664007971161202,6.293225882532262,-2.8534099828670145,-2.358359462334195,5.610605053600709,-1.7869509496967309,-6.117310348635278,-5.638730407454222,5.623362176578032,-3.3723492468510936,-5.691660751725309,7.190699728969733,-3.8683706125485733,-4.62243621367908,5.211124755007717,-2.6187711721030893,-2.9244927905709273,-2.809121318641862,4.353281221955623,2.798655573742823,-3.6549826349293646,4.888779396370269,4.943175519114153,3.9776101818175573,-3.4184400383000257,3.508548945436025,-2.6397117304410727,-3.3756546363367583,-2.371623009844056,1.8159400141317628,5.043668993178389,-4.198138968128656,5.134048196554623,3.393206013220775,4.340861558141103,-0.806190886711919,-5.623530729679792,5.565783320218834,4.413476061178407,4.015073613639366,-5.0246169558757785,5.5563555231982935,-5.200758068929997,-2.527529386267978,-3.855276290160386,5.78477065101559,1.7440743597671482,3.2712341711298376,7.186979646974258,-2.788997343009816,-3.370008223190852,-4.301967965927781,3.955410618092208,3.55912397570816,-3.0938430672545096,-5.935769434259068,5.836004719434269,4.68988322648194,-5.2980928351027154,-1.302169158278749,4.926887296252723,-3.306184817382224,4.5017864363689215,3.8672318138838646,4.324584625033458,4.879535428211493,3.5133526763471767,-4.830617566941332,-1.6290301974677577,1.6268390223646985,6.399843942480986,5.824005618450408,-3.2551882357835202,-4.957786253284407,2.7500303827243338,3.852494364369333,-5.101745872529145,-4.839962930552169,1.0864969988262123,4.615841107924169,-4.257955839422665,5.095425087191257,-6.396496335488138,5.262467445463269,3.5353600970547574,5.248799161387771,5.618539130786293,-2.3926567061764104,3.1687168300673716,3.9516159505552415,-4.099144050735588,-1.984586198216759,-1.4550055903261025,2.9425052782139565,2.7744028808655727,4.500881423680301,-5.352249846493518,-2.9148469012882354,-4.068897918696443,3.4743196837706423,3.668048333482752,-3.2223919054141508,-3.6077125022845524,5.562761096619027,1.385836078083174,4.420017933247763,4.712692136523981,-4.137449593008341,-5.208894233374778,2.619422400155829,-1.3989997973315182],\"y\":[3.325804192381068,3.2217112921126927,-4.134592370675321,6.111056698560505,2.950155512767179,4.122718481081812,-4.153839352414966,3.9608923804630782,-4.956403143165753,4.702638117226496,-4.8148435825160565,3.657324210622564,-4.449462504023785,2.9511229387345987,5.313547720463432,3.0574394528580333,-2.2173242877515795,-0.3621719325605177,-2.7379419357521826,-1.5438782958753037,-3.878582291764336,-2.176472646398568,0.2728873681499855,-5.384054354668415,-4.967385453306641,5.661020287598693,2.020815084872594,-2.948738032671623,6.6169495988573,3.9539175816088177,-4.442589181476455,4.482905542079772,3.880884601440272,-5.1724282075504355,3.6181333967176954,4.454225832017432,-4.862298790002614,2.2775859714700912,-2.149832841171721,-2.4781371633734475,-3.3075453989722536,2.033845143174072,-4.880991354192541,5.109402696425428,1.0234373394798197,-0.7102453167937288,-4.642466729077368,5.602319280295629,3.942876928496309,-6.3122834112374315,5.080927100973279,-3.4339146556265012,-2.0333567327711592,3.144353666030322,-6.857981864446752,-5.1809203020781505,2.4325899750531454,-0.7320400516889736,-2.684176325653745,4.138683639223958,-5.671246130836819,1.8988431993506165,2.6892931975586576,1.70045250930824,-3.6759826714413153,-5.306204012628372,-1.3765878379780647,6.044442094707259,-3.747131844766712,3.7289555856506973,-1.291543671448037,6.93752881361608,4.796605551035442,4.88094581222519,-4.767505440821262,4.393001601799954,4.655012789845021,7.528325706806398,-4.382796890292581,-1.3776716783429077,3.028879745585174,-4.237988819687975,2.3515101969406063,2.6422513725263177,-4.809084515332534,3.9092533893640082,5.986335187821242,-3.537892062955026,-4.406421476762933,3.1933662256603847,4.889552973582684,0.7120871088002843,-0.016303860965749095,-3.8065340728440185,3.8062060651354486,-4.765584302182908,-4.576505645935887,4.565043317044772,-4.661988303425524,-5.396753526855977,3.1036390771089075,-3.480183183577801,-4.878178729008563,5.016527567305616,2.3010018161962758,1.7684690182696667,3.0109377744920893,-2.9130293097110322,-3.037223023875338,2.322367804016449,-3.1613442431530188,5.492336555936649,-3.5218859446413093,2.394655287492458,-2.668198839744716,3.8863142642463187,-5.611756413650076,4.260415183575322,-3.660170104982276,4.773685757486395,-4.953432701575855,6.202054862199706,-1.0485707394090646,-2.602887217573538,2.6968697792502914,-4.479423662926629,-3.971156925832625,3.763146623458603,-5.282534467652923,-5.775161619169159,-0.7397507735509068,-4.813438609011715,4.2464350892279725,-4.098409279407204,4.044574737626311,-1.7852104025141846,-0.8866386254368845,5.441364443568582,2.1081837601919515,2.869190469546874,-5.447128564785999,7.051173442857444,6.2322530708284365,2.1560992907896077,-5.267888079626016,6.5433591108044835,2.565162235892861,-4.511481853462503,4.204594171372407,6.16033856999377,2.2483257923685755,4.689015021697149,-1.2671008076237629,-1.8454198474132997,3.766879264553573,-3.194693595287226,-4.259443548903725,1.9915428657245993,-1.5793848819450438,4.2180883173131996,4.43769456898091,-5.761206900895103,-4.417184786284178,-0.4453758974818842,-2.7364369518129865,-4.131113842994132,-4.123831078883775,-4.277566375805987,-2.1897277122162326,-5.191835552361615,5.921450068659511,-6.4441138054295894,5.276499304822184,-4.038793245744643,4.703358847629137,4.556828069299362,1.1011871813335237,-2.1134608548669087,-1.3958256736967865,-5.683727859174333,1.3851289476340631,3.1085146984848495,-1.5608312558035122,-3.3677686776235904,-2.88483224883279,-6.14251819802214,2.951946037321223,-4.714412674745741,5.795026094424845,3.2393114396012166,3.5989963327471792,2.482281682089858,5.240737092237732,-2.9116391631884824,-2.695057340875901,5.680069839878104,6.458602704037963,-4.4133768088178025,-2.77909772154329,3.2800271353386297],\"z\":[-4.174970175561014,-4.625342001465988,2.6984613031197173,-4.34095020389979,-2.2346648994809284,-5.867787222872925,4.140484059168013,-3.40752719857598,4.379999156051871,-4.582697995025137,4.624715049909886,-3.885617023220208,5.7928068659193475,-4.694920901185239,-4.496815186564674,-3.818961255642129,3.1739025681526796,3.2144660030797647,5.155287886088225,3.294159492597716,5.408900537936828,3.890008509836393,-5.6993336047222956,6.133769442335438,3.626882679753244,-3.207841791024433,-5.9521052872452325,3.3275519612134037,-4.497259118000096,-3.3383189235340174,1.4935593473239388,-5.997026827650263,-3.043921096296358,4.122141582078628,-3.325603895179131,-5.1988378628888965,5.077821127912706,-2.5298396561742598,4.017164726374088,3.5313261837221086,5.050807754776029,-2.6150086563513613,4.329337713710969,-6.219744396979033,-4.143195745007238,4.451284016040171,3.169831135977292,-4.5797177963529405,-4.539681562202492,4.961304490733949,-5.186578993511466,3.4669796739164007,5.033686867939501,-3.6283297087881348,6.23616403045282,4.396079372206743,-2.838560018325606,3.524627124862018,3.8840148145276037,-4.3252884743120275,4.987335401081099,-3.4439264899226147,-4.563788734582303,-4.2915945955008326,5.0101271773347245,5.827974642607246,4.3052670402440105,-5.400878191788927,5.512929820418009,-2.6902940943173466,5.1157018027844865,-4.633667985459942,-4.7573305589182056,-4.982590591699996,5.682551406864485,-4.893777275964783,-5.230839743135469,-5.24863477771546,5.300170319955828,3.0029802044703175,-6.237086511112471,4.777671857389641,-4.183400197320024,-3.4864945200114525,7.100255136478842,-2.3790877143782527,-4.786466098664558,2.939859290502346,3.905088154258958,-4.7580673285562325,-5.617362063712361,-3.6381526841604317,-4.59566788091029,4.076380480159592,-4.604602969164376,6.659802177109871,5.077340068348559,-3.5924599997587716,3.800731967664814,4.312827299880401,-5.646916688254908,7.185575406533161,6.129483907911919,-4.822812279724039,-2.133528624847875,-5.565738150655905,-2.289338161328865,5.834717626649686,4.156263850270083,-5.510456375087569,7.030857112372031,-5.680678141008886,4.794528239601083,-3.369804329315089,3.825819655692009,-3.4518704153118067,4.4718282477365445,-3.033460749770943,5.350106818681726,-3.668542887412408,4.813430228092651,-4.715251889150942,3.3819631523184213,5.146900376399483,-3.830130744652428,3.8556586103768575,3.169828104684886,-4.1241610723507005,4.584646610477426,6.273755930158776,3.93934750822519,5.410051647208256,-4.775070287073435,5.502494338901868,-4.414089568897384,4.852704061725286,3.6251953126973473,-5.1001552332835,-3.315998671818047,-3.1467178141762666,6.224507704805498,-4.414337999827618,-5.254179867607368,-5.000169189872516,5.530355466738186,-4.241194339902069,-3.961175398140586,4.924428286978944,-2.9599108468459048,-4.630507283624277,-3.617284826275636,-5.001891482838004,3.5771430386092247,3.948811552392336,-6.182318126509633,4.621803504305572,4.046299398192065,-3.222580794751137,3.964632075121289,-5.4375089828285805,-3.0451219249909656,5.319039096057098,3.8993808227870788,4.053409536798348,4.727813499999649,5.750411639865008,5.315634947241605,3.222141173372587,1.9057521837771878,4.112371035915164,-4.939249804200493,4.495534137053549,-5.733271603895313,3.5521048152838812,-4.50478867602204,-3.1894650858745437,-3.9182321811943837,3.1485443434691733,3.718263730934387,4.877109774481352,-4.767309826331735,-4.069328696690483,2.0566765943316474,3.864022673899411,5.45810823860952,4.650657277587123,-5.579156285394466,5.885141164270728,-5.374438318843221,-6.6507212658241,-4.901634490475998,-5.7193944746195235,-4.719334922877361,5.278528082841722,4.805393424232181,-5.319801598898671,-3.3513563559093327,5.838983413874505,5.622849085954001,-4.62944160405378],\"type\":\"scatter3d\"}],                        {\"template\":{\"data\":{\"histogram2dcontour\":[{\"type\":\"histogram2dcontour\",\"colorbar\":{\"outlinewidth\":0,\"ticks\":\"\"},\"colorscale\":[[0.0,\"#0d0887\"],[0.1111111111111111,\"#46039f\"],[0.2222222222222222,\"#7201a8\"],[0.3333333333333333,\"#9c179e\"],[0.4444444444444444,\"#bd3786\"],[0.5555555555555556,\"#d8576b\"],[0.6666666666666666,\"#ed7953\"],[0.7777777777777778,\"#fb9f3a\"],[0.8888888888888888,\"#fdca26\"],[1.0,\"#f0f921\"]]}],\"choropleth\":[{\"type\":\"choropleth\",\"colorbar\":{\"outlinewidth\":0,\"ticks\":\"\"}}],\"histogram2d\":[{\"type\":\"histogram2d\",\"colorbar\":{\"outlinewidth\":0,\"ticks\":\"\"},\"colorscale\":[[0.0,\"#0d0887\"],[0.1111111111111111,\"#46039f\"],[0.2222222222222222,\"#7201a8\"],[0.3333333333333333,\"#9c179e\"],[0.4444444444444444,\"#bd3786\"],[0.5555555555555556,\"#d8576b\"],[0.6666666666666666,\"#ed7953\"],[0.7777777777777778,\"#fb9f3a\"],[0.8888888888888888,\"#fdca26\"],[1.0,\"#f0f921\"]]}],\"heatmap\":[{\"type\":\"heatmap\",\"colorbar\":{\"outlinewidth\":0,\"ticks\":\"\"},\"colorscale\":[[0.0,\"#0d0887\"],[0.1111111111111111,\"#46039f\"],[0.2222222222222222,\"#7201a8\"],[0.3333333333333333,\"#9c179e\"],[0.4444444444444444,\"#bd3786\"],[0.5555555555555556,\"#d8576b\"],[0.6666666666666666,\"#ed7953\"],[0.7777777777777778,\"#fb9f3a\"],[0.8888888888888888,\"#fdca26\"],[1.0,\"#f0f921\"]]}],\"heatmapgl\":[{\"type\":\"heatmapgl\",\"colorbar\":{\"outlinewidth\":0,\"ticks\":\"\"},\"colorscale\":[[0.0,\"#0d0887\"],[0.1111111111111111,\"#46039f\"],[0.2222222222222222,\"#7201a8\"],[0.3333333333333333,\"#9c179e\"],[0.4444444444444444,\"#bd3786\"],[0.5555555555555556,\"#d8576b\"],[0.6666666666666666,\"#ed7953\"],[0.7777777777777778,\"#fb9f3a\"],[0.8888888888888888,\"#fdca26\"],[1.0,\"#f0f921\"]]}],\"contourcarpet\":[{\"type\":\"contourcarpet\",\"colorbar\":{\"outlinewidth\":0,\"ticks\":\"\"}}],\"contour\":[{\"type\":\"contour\",\"colorbar\":{\"outlinewidth\":0,\"ticks\":\"\"},\"colorscale\":[[0.0,\"#0d0887\"],[0.1111111111111111,\"#46039f\"],[0.2222222222222222,\"#7201a8\"],[0.3333333333333333,\"#9c179e\"],[0.4444444444444444,\"#bd3786\"],[0.5555555555555556,\"#d8576b\"],[0.6666666666666666,\"#ed7953\"],[0.7777777777777778,\"#fb9f3a\"],[0.8888888888888888,\"#fdca26\"],[1.0,\"#f0f921\"]]}],\"surface\":[{\"type\":\"surface\",\"colorbar\":{\"outlinewidth\":0,\"ticks\":\"\"},\"colorscale\":[[0.0,\"#0d0887\"],[0.1111111111111111,\"#46039f\"],[0.2222222222222222,\"#7201a8\"],[0.3333333333333333,\"#9c179e\"],[0.4444444444444444,\"#bd3786\"],[0.5555555555555556,\"#d8576b\"],[0.6666666666666666,\"#ed7953\"],[0.7777777777777778,\"#fb9f3a\"],[0.8888888888888888,\"#fdca26\"],[1.0,\"#f0f921\"]]}],\"mesh3d\":[{\"type\":\"mesh3d\",\"colorbar\":{\"outlinewidth\":0,\"ticks\":\"\"}}],\"scatter\":[{\"fillpattern\":{\"fillmode\":\"overlay\",\"size\":10,\"solidity\":0.2},\"type\":\"scatter\"}],\"parcoords\":[{\"type\":\"parcoords\",\"line\":{\"colorbar\":{\"outlinewidth\":0,\"ticks\":\"\"}}}],\"scatterpolargl\":[{\"type\":\"scatterpolargl\",\"marker\":{\"colorbar\":{\"outlinewidth\":0,\"ticks\":\"\"}}}],\"bar\":[{\"error_x\":{\"color\":\"#2a3f5f\"},\"error_y\":{\"color\":\"#2a3f5f\"},\"marker\":{\"line\":{\"color\":\"#E5ECF6\",\"width\":0.5},\"pattern\":{\"fillmode\":\"overlay\",\"size\":10,\"solidity\":0.2}},\"type\":\"bar\"}],\"scattergeo\":[{\"type\":\"scattergeo\",\"marker\":{\"colorbar\":{\"outlinewidth\":0,\"ticks\":\"\"}}}],\"scatterpolar\":[{\"type\":\"scatterpolar\",\"marker\":{\"colorbar\":{\"outlinewidth\":0,\"ticks\":\"\"}}}],\"histogram\":[{\"marker\":{\"pattern\":{\"fillmode\":\"overlay\",\"size\":10,\"solidity\":0.2}},\"type\":\"histogram\"}],\"scattergl\":[{\"type\":\"scattergl\",\"marker\":{\"colorbar\":{\"outlinewidth\":0,\"ticks\":\"\"}}}],\"scatter3d\":[{\"type\":\"scatter3d\",\"line\":{\"colorbar\":{\"outlinewidth\":0,\"ticks\":\"\"}},\"marker\":{\"colorbar\":{\"outlinewidth\":0,\"ticks\":\"\"}}}],\"scattermapbox\":[{\"type\":\"scattermapbox\",\"marker\":{\"colorbar\":{\"outlinewidth\":0,\"ticks\":\"\"}}}],\"scatterternary\":[{\"type\":\"scatterternary\",\"marker\":{\"colorbar\":{\"outlinewidth\":0,\"ticks\":\"\"}}}],\"scattercarpet\":[{\"type\":\"scattercarpet\",\"marker\":{\"colorbar\":{\"outlinewidth\":0,\"ticks\":\"\"}}}],\"carpet\":[{\"aaxis\":{\"endlinecolor\":\"#2a3f5f\",\"gridcolor\":\"white\",\"linecolor\":\"white\",\"minorgridcolor\":\"white\",\"startlinecolor\":\"#2a3f5f\"},\"baxis\":{\"endlinecolor\":\"#2a3f5f\",\"gridcolor\":\"white\",\"linecolor\":\"white\",\"minorgridcolor\":\"white\",\"startlinecolor\":\"#2a3f5f\"},\"type\":\"carpet\"}],\"table\":[{\"cells\":{\"fill\":{\"color\":\"#EBF0F8\"},\"line\":{\"color\":\"white\"}},\"header\":{\"fill\":{\"color\":\"#C8D4E3\"},\"line\":{\"color\":\"white\"}},\"type\":\"table\"}],\"barpolar\":[{\"marker\":{\"line\":{\"color\":\"#E5ECF6\",\"width\":0.5},\"pattern\":{\"fillmode\":\"overlay\",\"size\":10,\"solidity\":0.2}},\"type\":\"barpolar\"}],\"pie\":[{\"automargin\":true,\"type\":\"pie\"}]},\"layout\":{\"autotypenumbers\":\"strict\",\"colorway\":[\"#636efa\",\"#EF553B\",\"#00cc96\",\"#ab63fa\",\"#FFA15A\",\"#19d3f3\",\"#FF6692\",\"#B6E880\",\"#FF97FF\",\"#FECB52\"],\"font\":{\"color\":\"#2a3f5f\"},\"hovermode\":\"closest\",\"hoverlabel\":{\"align\":\"left\"},\"paper_bgcolor\":\"white\",\"plot_bgcolor\":\"#E5ECF6\",\"polar\":{\"bgcolor\":\"#E5ECF6\",\"angularaxis\":{\"gridcolor\":\"white\",\"linecolor\":\"white\",\"ticks\":\"\"},\"radialaxis\":{\"gridcolor\":\"white\",\"linecolor\":\"white\",\"ticks\":\"\"}},\"ternary\":{\"bgcolor\":\"#E5ECF6\",\"aaxis\":{\"gridcolor\":\"white\",\"linecolor\":\"white\",\"ticks\":\"\"},\"baxis\":{\"gridcolor\":\"white\",\"linecolor\":\"white\",\"ticks\":\"\"},\"caxis\":{\"gridcolor\":\"white\",\"linecolor\":\"white\",\"ticks\":\"\"}},\"coloraxis\":{\"colorbar\":{\"outlinewidth\":0,\"ticks\":\"\"}},\"colorscale\":{\"sequential\":[[0.0,\"#0d0887\"],[0.1111111111111111,\"#46039f\"],[0.2222222222222222,\"#7201a8\"],[0.3333333333333333,\"#9c179e\"],[0.4444444444444444,\"#bd3786\"],[0.5555555555555556,\"#d8576b\"],[0.6666666666666666,\"#ed7953\"],[0.7777777777777778,\"#fb9f3a\"],[0.8888888888888888,\"#fdca26\"],[1.0,\"#f0f921\"]],\"sequentialminus\":[[0.0,\"#0d0887\"],[0.1111111111111111,\"#46039f\"],[0.2222222222222222,\"#7201a8\"],[0.3333333333333333,\"#9c179e\"],[0.4444444444444444,\"#bd3786\"],[0.5555555555555556,\"#d8576b\"],[0.6666666666666666,\"#ed7953\"],[0.7777777777777778,\"#fb9f3a\"],[0.8888888888888888,\"#fdca26\"],[1.0,\"#f0f921\"]],\"diverging\":[[0,\"#8e0152\"],[0.1,\"#c51b7d\"],[0.2,\"#de77ae\"],[0.3,\"#f1b6da\"],[0.4,\"#fde0ef\"],[0.5,\"#f7f7f7\"],[0.6,\"#e6f5d0\"],[0.7,\"#b8e186\"],[0.8,\"#7fbc41\"],[0.9,\"#4d9221\"],[1,\"#276419\"]]},\"xaxis\":{\"gridcolor\":\"white\",\"linecolor\":\"white\",\"ticks\":\"\",\"title\":{\"standoff\":15},\"zerolinecolor\":\"white\",\"automargin\":true,\"zerolinewidth\":2},\"yaxis\":{\"gridcolor\":\"white\",\"linecolor\":\"white\",\"ticks\":\"\",\"title\":{\"standoff\":15},\"zerolinecolor\":\"white\",\"automargin\":true,\"zerolinewidth\":2},\"scene\":{\"xaxis\":{\"backgroundcolor\":\"#E5ECF6\",\"gridcolor\":\"white\",\"linecolor\":\"white\",\"showbackground\":true,\"ticks\":\"\",\"zerolinecolor\":\"white\",\"gridwidth\":2},\"yaxis\":{\"backgroundcolor\":\"#E5ECF6\",\"gridcolor\":\"white\",\"linecolor\":\"white\",\"showbackground\":true,\"ticks\":\"\",\"zerolinecolor\":\"white\",\"gridwidth\":2},\"zaxis\":{\"backgroundcolor\":\"#E5ECF6\",\"gridcolor\":\"white\",\"linecolor\":\"white\",\"showbackground\":true,\"ticks\":\"\",\"zerolinecolor\":\"white\",\"gridwidth\":2}},\"shapedefaults\":{\"line\":{\"color\":\"#2a3f5f\"}},\"annotationdefaults\":{\"arrowcolor\":\"#2a3f5f\",\"arrowhead\":0,\"arrowwidth\":1},\"geo\":{\"bgcolor\":\"white\",\"landcolor\":\"#E5ECF6\",\"subunitcolor\":\"white\",\"showland\":true,\"showlakes\":true,\"lakecolor\":\"white\"},\"title\":{\"x\":0.05},\"mapbox\":{\"style\":\"light\"}}},\"scene\":{\"domain\":{\"x\":[0.0,1.0],\"y\":[0.0,1.0]},\"xaxis\":{\"title\":{\"text\":\"col1\"}},\"yaxis\":{\"title\":{\"text\":\"col2\"}},\"zaxis\":{\"title\":{\"text\":\"col3\"}}},\"coloraxis\":{\"colorbar\":{\"title\":{\"text\":\"label\"}},\"colorscale\":[[0.0,\"#0d0887\"],[0.1111111111111111,\"#46039f\"],[0.2222222222222222,\"#7201a8\"],[0.3333333333333333,\"#9c179e\"],[0.4444444444444444,\"#bd3786\"],[0.5555555555555556,\"#d8576b\"],[0.6666666666666666,\"#ed7953\"],[0.7777777777777778,\"#fb9f3a\"],[0.8888888888888888,\"#fdca26\"],[1.0,\"#f0f921\"]]},\"legend\":{\"tracegroupgap\":0},\"margin\":{\"t\":60}},                        {\"responsive\": true}                    ).then(function(){\n",
              "                            \n",
              "var gd = document.getElementById('98353ddc-ae41-411b-bada-0ac4ed3dac46');\n",
              "var x = new MutationObserver(function (mutations, observer) {{\n",
              "        var display = window.getComputedStyle(gd).display;\n",
              "        if (!display || display === 'none') {{\n",
              "            console.log([gd, 'removed!']);\n",
              "            Plotly.purge(gd);\n",
              "            observer.disconnect();\n",
              "        }}\n",
              "}});\n",
              "\n",
              "// Listen for the removal of the full notebook cells\n",
              "var notebookContainer = gd.closest('#notebook-container');\n",
              "if (notebookContainer) {{\n",
              "    x.observe(notebookContainer, {childList: true});\n",
              "}}\n",
              "\n",
              "// Listen for the clearing of the current output cell\n",
              "var outputEl = gd.closest('.output');\n",
              "if (outputEl) {{\n",
              "    x.observe(outputEl, {childList: true});\n",
              "}}\n",
              "\n",
              "                        })                };                            </script>        </div>\n",
              "</body>\n",
              "</html>"
            ]
          },
          "metadata": {}
        }
      ]
    },
    {
      "cell_type": "code",
      "source": [],
      "metadata": {
        "id": "pC7di7-luqNI"
      },
      "execution_count": null,
      "outputs": []
    }
  ]
}