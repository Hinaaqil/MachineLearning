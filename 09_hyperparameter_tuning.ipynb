{
 "cells": [
  {
   "cell_type": "code",
   "execution_count": null,
   "metadata": {},
   "outputs": [],
   "source": []
  },
  {
   "cell_type": "markdown",
   "metadata": {},
   "source": [
    "#hyperparameter tuning\n",
    "types:\n",
    "1. Grid Search  >> runs all the parameter combinations given to it\n",
    "2. Random Search  >> runs randomly some(not all) of the parameters given to it \n",
    "3. Bayesian Optimization\n",
    "4. Gradient_based Optimization\n",
    "\n",
    "\n",
    "#Cross Validation\n",
    "diff combination of train test split\n",
    "cross validation and hyperparameter tuning go side by side along"
   ]
  },
  {
   "cell_type": "markdown",
   "metadata": {},
   "source": [
    "#GridSearchCV"
   ]
  },
  {
   "cell_type": "code",
   "execution_count": null,
   "metadata": {},
   "outputs": [],
   "source": []
  },
  {
   "cell_type": "code",
   "execution_count": 1,
   "metadata": {},
   "outputs": [],
   "source": [
    "from sklearn.ensemble import RandomForestClassifier\n",
    "from sklearn.model_selection import train_test_split, GridSearchCV, RandomizedSearchCV\n",
    "from sklearn.metrics import accuracy_score, confusion_matrix, classification_report"
   ]
  },
  {
   "cell_type": "code",
   "execution_count": 2,
   "metadata": {},
   "outputs": [],
   "source": [
    "#load the data\n",
    "from sklearn.datasets import load_iris   # its not a dataframe so .head() will not work\n",
    "\n",
    "iris = load_iris()\n",
    "X= iris.data        #data already sep. into features and target\n",
    "y= iris.target"
   ]
  },
  {
   "cell_type": "code",
   "execution_count": 5,
   "metadata": {},
   "outputs": [
    {
     "name": "stdout",
     "output_type": "stream",
     "text": [
      "Fitting 5 folds for each of 42 candidates, totalling 210 fits\n",
      "Best parameters: {'max_depth': 4, 'n_estimators': 50}\n"
     ]
    }
   ],
   "source": [
    "%%time\n",
    "#define the model\n",
    "model= RandomForestClassifier()\n",
    "\n",
    "#create the parameter grid\n",
    "param_grid = {\n",
    "    \"n_estimators\": [50, 100, 200, 300, 400, 500],\n",
    "    #\"max_features\": ['auto', 'sqrt', 'log2'],\n",
    "    \"max_depth\": [4,5,6,7,8,9,10],\n",
    "    #'criterion': ['gini', 'entropy']\n",
    "}\n",
    "\n",
    "grid = GridSearchCV(\n",
    "    estimator=model,\n",
    "    param_grid=param_grid,\n",
    "    cv=5,                      #cross validation\n",
    "    scoring='accuracy',\n",
    "    verbose=1,\n",
    "    n_jobs=-1\n",
    ")\n",
    "\n",
    "#fit the model\n",
    "grid.fit(X,y)\n",
    "\n",
    "#print the best parameters\n",
    "print(f\"Best parameters: {grid.best_params_}\")\n",
    "\n"
   ]
  },
  {
   "cell_type": "code",
   "execution_count": null,
   "metadata": {},
   "outputs": [],
   "source": []
  },
  {
   "cell_type": "code",
   "execution_count": null,
   "metadata": {},
   "outputs": [],
   "source": []
  },
  {
   "cell_type": "code",
   "execution_count": 4,
   "metadata": {},
   "outputs": [
    {
     "name": "stdout",
     "output_type": "stream",
     "text": [
      "Fitting 5 folds for each of 84 candidates, totalling 420 fits\n",
      "Best parameters: {'criterion': 'gini', 'max_depth': 4, 'n_estimators': 100}\n",
      "CPU times: total: 1.89 s\n",
      "Wall time: 2min 49s\n"
     ]
    }
   ],
   "source": [
    "%%time\n",
    "#define the model\n",
    "model= RandomForestClassifier()\n",
    "\n",
    "#create the parameter grid\n",
    "param_grid = {\n",
    "    \"n_estimators\": [50, 100, 200, 300, 400, 500],\n",
    "    #\"max_features\": ['auto', 'sqrt', 'log2'],\n",
    "    \"max_depth\": [4,5,6,7,8,9,10],\n",
    "    'criterion': ['gini', 'entropy']\n",
    "}\n",
    "\n",
    "grid = GridSearchCV(\n",
    "    estimator=model,\n",
    "    param_grid=param_grid,\n",
    "    cv=5,\n",
    "    scoring='accuracy',\n",
    "    verbose=1,\n",
    "    n_jobs=-1\n",
    ")\n",
    "\n",
    "#fit the model\n",
    "grid.fit(X,y)\n",
    "\n",
    "#print the best parameters\n",
    "print(f\"Best parameters: {grid.best_params_}\")"
   ]
  },
  {
   "cell_type": "code",
   "execution_count": null,
   "metadata": {},
   "outputs": [],
   "source": []
  },
  {
   "cell_type": "code",
   "execution_count": 6,
   "metadata": {},
   "outputs": [
    {
     "name": "stdout",
     "output_type": "stream",
     "text": [
      "Fitting 5 folds for each of 168 candidates, totalling 840 fits\n",
      "Best parameters: {'bootstrap': True, 'criterion': 'gini', 'max_depth': 4, 'n_estimators': 50}\n",
      "CPU times: total: 3.64 s\n",
      "Wall time: 5min 22s\n"
     ]
    }
   ],
   "source": [
    "%%time\n",
    "#define the model\n",
    "model= RandomForestClassifier()\n",
    "\n",
    "#create the parameter grid\n",
    "param_grid = {\n",
    "    \"n_estimators\": [50, 100, 200, 300, 400, 500],\n",
    "    #\"max_features\": ['auto', 'sqrt', 'log2'],\n",
    "    \"max_depth\": [4,5,6,7,8,9,10],\n",
    "    'criterion': ['gini', 'entropy'],\n",
    "    'bootstrap': [True, False]\n",
    "}\n",
    "\n",
    "grid = GridSearchCV(\n",
    "    estimator=model,\n",
    "    param_grid=param_grid,\n",
    "    cv=5,\n",
    "    scoring='accuracy',\n",
    "    verbose=1,\n",
    "    n_jobs=-1\n",
    ")\n",
    "\n",
    "#fit the model\n",
    "grid.fit(X,y)\n",
    "\n",
    "#print the best parameters\n",
    "print(f\"Best parameters: {grid.best_params_}\")"
   ]
  },
  {
   "cell_type": "code",
   "execution_count": null,
   "metadata": {},
   "outputs": [],
   "source": []
  },
  {
   "cell_type": "markdown",
   "metadata": {},
   "source": [
    "#Random Search"
   ]
  },
  {
   "cell_type": "code",
   "execution_count": 4,
   "metadata": {},
   "outputs": [
    {
     "name": "stdout",
     "output_type": "stream",
     "text": [
      "Fitting 5 folds for each of 20 candidates, totalling 100 fits\n",
      "Best parameters: {'n_estimators': 400, 'max_depth': 7, 'criterion': 'gini', 'bootstrap': True}\n",
      "CPU times: total: 1.31 s\n",
      "Wall time: 56.9 s\n"
     ]
    }
   ],
   "source": [
    "%%time\n",
    "#define the model\n",
    "model= RandomForestClassifier()\n",
    "\n",
    "#create the parameter grid\n",
    "param_grid = {\n",
    "    \"n_estimators\": [50, 100, 200, 300, 400, 500],\n",
    "    #\"max_features\": ['auto', 'sqrt', 'log2'],\n",
    "    \"max_depth\": [4,5,6,7,8,9,10],\n",
    "    'criterion': ['gini', 'entropy'],\n",
    "    'bootstrap': [True, False]\n",
    "}\n",
    "\n",
    "grid = RandomizedSearchCV(    #used RandomizedSearchCV\n",
    "    estimator=model,\n",
    "    param_distributions=param_grid,\n",
    "    cv=5,\n",
    "    scoring='accuracy',\n",
    "    verbose=1,\n",
    "    n_jobs=-1,\n",
    "    n_iter=20\n",
    ")\n",
    "\n",
    "#fit the model\n",
    "grid.fit(X,y)\n",
    "\n",
    "#print the best parameters\n",
    "print(f\"Best parameters: {grid.best_params_}\")"
   ]
  }
 ],
 "metadata": {
  "kernelspec": {
   "display_name": "venvml",
   "language": "python",
   "name": "python3"
  },
  "language_info": {
   "codemirror_mode": {
    "name": "ipython",
    "version": 3
   },
   "file_extension": ".py",
   "mimetype": "text/x-python",
   "name": "python",
   "nbconvert_exporter": "python",
   "pygments_lexer": "ipython3",
   "version": "3.11.7"
  }
 },
 "nbformat": 4,
 "nbformat_minor": 2
}
